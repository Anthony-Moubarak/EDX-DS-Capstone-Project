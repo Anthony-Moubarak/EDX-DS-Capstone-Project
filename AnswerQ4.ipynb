{
 "cells": [
  {
   "cell_type": "markdown",
   "metadata": {},
   "source": [
    "<h1 align=center><font size = 5>Data Science and Machine Learning Capstone Project</font></h1>"
   ]
  },
  {
   "cell_type": "markdown",
   "metadata": {},
   "source": [
    "### Question 4. Can a predictive model be built for future prediction of the possibility of complaints of the specific type that you identified in response to Question 1? ### "
   ]
  },
  {
   "cell_type": "markdown",
   "metadata": {},
   "source": [
    "I will use **FFT**, **SARIMA** and **LSTM** models to predict the number of future complaint of specific type identified in Q1, which is HEAT/HOT Water, based on month and then decide based on the performance of these model whether such a model described in the question can be built. The reason I choose month as the time measure is just to make it more simple. "
   ]
  },
  {
   "cell_type": "markdown",
   "metadata": {},
   "source": [
    "***<font size = 4>Data preparation</font>***"
   ]
  },
  {
   "cell_type": "markdown",
   "metadata": {},
   "source": [
    "Import necessary libraries"
   ]
  },
  {
   "cell_type": "code",
   "execution_count": 1,
   "metadata": {},
   "outputs": [],
   "source": [
    "import pandas as pd\n",
    "import numpy as np\n",
    "%matplotlib inline\n",
    "import matplotlib as mpl\n",
    "import matplotlib.pyplot as plt\n",
    "from sklearn.metrics import mean_squared_error\n",
    "from sklearn.preprocessing import MinMaxScaler\n",
    "from math import sqrt\n",
    "import statsmodels.api as sm\n",
    "import pmdarima as pm"
   ]
  },
  {
   "cell_type": "markdown",
   "metadata": {},
   "source": [
    "Import the data."
   ]
  },
  {
   "cell_type": "code",
   "execution_count": 2,
   "metadata": {},
   "outputs": [
    {
     "data": {
      "text/html": [
       "<div>\n",
       "<style scoped>\n",
       "    .dataframe tbody tr th:only-of-type {\n",
       "        vertical-align: middle;\n",
       "    }\n",
       "\n",
       "    .dataframe tbody tr th {\n",
       "        vertical-align: top;\n",
       "    }\n",
       "\n",
       "    .dataframe thead th {\n",
       "        text-align: right;\n",
       "    }\n",
       "</style>\n",
       "<table border=\"1\" class=\"dataframe\">\n",
       "  <thead>\n",
       "    <tr style=\"text-align: right;\">\n",
       "      <th></th>\n",
       "      <th>complaint_type</th>\n",
       "      <th>created_date</th>\n",
       "    </tr>\n",
       "  </thead>\n",
       "  <tbody>\n",
       "    <tr>\n",
       "      <th>0</th>\n",
       "      <td>APPLIANCE</td>\n",
       "      <td>2016-12-05 16:13:38</td>\n",
       "    </tr>\n",
       "    <tr>\n",
       "      <th>1</th>\n",
       "      <td>DOOR/WINDOW</td>\n",
       "      <td>2016-12-05 20:43:42</td>\n",
       "    </tr>\n",
       "    <tr>\n",
       "      <th>2</th>\n",
       "      <td>DOOR/WINDOW</td>\n",
       "      <td>2016-12-05 14:59:24</td>\n",
       "    </tr>\n",
       "    <tr>\n",
       "      <th>3</th>\n",
       "      <td>DOOR/WINDOW</td>\n",
       "      <td>2016-12-05 16:40:33</td>\n",
       "    </tr>\n",
       "    <tr>\n",
       "      <th>4</th>\n",
       "      <td>SAFETY</td>\n",
       "      <td>2016-12-05 07:57:43</td>\n",
       "    </tr>\n",
       "  </tbody>\n",
       "</table>\n",
       "</div>"
      ],
      "text/plain": [
       "  complaint_type        created_date\n",
       "0      APPLIANCE 2016-12-05 16:13:38\n",
       "1    DOOR/WINDOW 2016-12-05 20:43:42\n",
       "2    DOOR/WINDOW 2016-12-05 14:59:24\n",
       "3    DOOR/WINDOW 2016-12-05 16:40:33\n",
       "4         SAFETY 2016-12-05 07:57:43"
      ]
     },
     "execution_count": 2,
     "metadata": {},
     "output_type": "execute_result"
    }
   ],
   "source": [
    "columns_used1 = ['complaint_type', 'created_date'] \n",
    "df_311= pd.read_csv('fhrw-4uyv.csv', usecols = columns_used1, parse_dates = ['created_date'])\n",
    "df_311.head()"
   ]
  },
  {
   "cell_type": "markdown",
   "metadata": {},
   "source": [
    "Select all rows with HEAT/HOT WATER as the complaint type"
   ]
  },
  {
   "cell_type": "code",
   "execution_count": 3,
   "metadata": {},
   "outputs": [],
   "source": [
    "df_311 = df_311[df_311['complaint_type'] == 'HEAT/HOT WATER']"
   ]
  },
  {
   "cell_type": "markdown",
   "metadata": {},
   "source": [
    "Create time series data with month based of HEAT/HOT WATER complaint "
   ]
  },
  {
   "cell_type": "code",
   "execution_count": 4,
   "metadata": {},
   "outputs": [
    {
     "data": {
      "text/plain": [
       "created_date\n",
       "2014-03-31    14462\n",
       "2014-04-30    13382\n",
       "2014-05-31     4262\n",
       "2014-06-30     2747\n",
       "2014-07-31     2490\n",
       "2014-08-31     2163\n",
       "2014-09-30     2368\n",
       "2014-10-31    16733\n",
       "2014-11-30    42458\n",
       "2014-12-31    31702\n",
       "Freq: M, dtype: int64"
      ]
     },
     "execution_count": 4,
     "metadata": {},
     "output_type": "execute_result"
    }
   ],
   "source": [
    "time_ser_HH_compt = pd.Series(1, index = df_311['created_date'])\n",
    "time_ser_HH_compt = time_ser_HH_compt.resample('M').sum()\n",
    "time_ser_HH_compt.head(10)"
   ]
  },
  {
   "cell_type": "markdown",
   "metadata": {},
   "source": [
    "Lets check the last rows of the time series and the number of data."
   ]
  },
  {
   "cell_type": "code",
   "execution_count": 5,
   "metadata": {},
   "outputs": [
    {
     "data": {
      "text/plain": [
       "created_date\n",
       "2018-10-31    26642\n",
       "2018-11-30    35189\n",
       "2018-12-31    29251\n",
       "2019-01-31    47087\n",
       "2019-02-28    16185\n",
       "Freq: M, dtype: int64"
      ]
     },
     "execution_count": 5,
     "metadata": {},
     "output_type": "execute_result"
    }
   ],
   "source": [
    "time_ser_HH_compt.tail()"
   ]
  },
  {
   "cell_type": "markdown",
   "metadata": {},
   "source": [
    "Remove the last row, because at the time when the data was downloaded, the data was gathered until the middle February 2019. Thus, the data at February, 2019 is not recorded for the whole month."
   ]
  },
  {
   "cell_type": "code",
   "execution_count": 6,
   "metadata": {},
   "outputs": [],
   "source": [
    "# remove the last row\n",
    "time_ser_HH_compt.drop(labels = time_ser_HH_compt.index[-1], inplace = True)"
   ]
  },
  {
   "cell_type": "code",
   "execution_count": 7,
   "metadata": {},
   "outputs": [
    {
     "data": {
      "text/plain": [
       "created_date\n",
       "2018-09-30     2716\n",
       "2018-10-31    26642\n",
       "2018-11-30    35189\n",
       "2018-12-31    29251\n",
       "2019-01-31    47087\n",
       "Freq: M, dtype: int64"
      ]
     },
     "execution_count": 7,
     "metadata": {},
     "output_type": "execute_result"
    }
   ],
   "source": [
    "time_ser_HH_compt.tail()"
   ]
  },
  {
   "cell_type": "code",
   "execution_count": 8,
   "metadata": {},
   "outputs": [
    {
     "data": {
      "text/plain": [
       "(59,)"
      ]
     },
     "execution_count": 8,
     "metadata": {},
     "output_type": "execute_result"
    }
   ],
   "source": [
    "time_ser_HH_compt.shape"
   ]
  },
  {
   "cell_type": "markdown",
   "metadata": {},
   "source": [
    "Next, lets plot the time series data."
   ]
  },
  {
   "cell_type": "code",
   "execution_count": 9,
   "metadata": {},
   "outputs": [
    {
     "data": {
      "text/plain": [
       "<matplotlib.axes._subplots.AxesSubplot at 0x7fbb48d2fa20>"
      ]
     },
     "execution_count": 9,
     "metadata": {},
     "output_type": "execute_result"
    },
    {
     "data": {
      "image/png": "[encoded data removed]",
      "text/plain": [
       "<Figure size 432x288 with 1 Axes>"
      ]
     },
     "metadata": {
      "needs_background": "light"
     },
     "output_type": "display_data"
    }
   ],
   "source": [
    "time_ser_HH_compt.plot(kind='line')"
   ]
  },
  {
   "cell_type": "markdown",
   "metadata": {},
   "source": [
    "We see pattern from the data, there is a periodicity, where there is a high number of complaint around winter season and low number of complaint at summer season. The time series began at March, 2014 and end at January, 2019, which is around 5 years time period. \n",
    "\n",
    "The range of data values seems too big, so lets scaled down the data to the range of (0, 100) with MinMaxScaler."
   ]
  },
  {
   "cell_type": "code",
   "execution_count": 10,
   "metadata": {},
   "outputs": [
    {
     "name": "stderr",
     "output_type": "stream",
     "text": [
      "/home/hadji-mufushi/.local/lib/python3.6/site-packages/sklearn/utils/validation.py:595: DataConversionWarning: Data with input dtype int64 was converted to float64 by MinMaxScaler.\n",
      "  warnings.warn(msg, DataConversionWarning)\n"
     ]
    },
    {
     "data": {
      "text/plain": [
       "0    22.535134\n",
       "1    20.556278\n",
       "2     3.845942\n",
       "3     1.070048\n",
       "4     0.599153\n",
       "dtype: float64"
      ]
     },
     "execution_count": 10,
     "metadata": {},
     "output_type": "execute_result"
    }
   ],
   "source": [
    "scaler = MinMaxScaler(feature_range = (0, 100)).fit(time_ser_HH_compt.values.reshape(-1,1))\n",
    "Scaled_ser = scaler.transform(time_ser_HH_compt.values.reshape(-1,1))\n",
    "Scaledtime_ser_HH_compt = pd.Series(Scaled_ser.reshape(-1,))\n",
    "Scaledtime_ser_HH_compt.head()"
   ]
  },
  {
   "cell_type": "code",
   "execution_count": 11,
   "metadata": {},
   "outputs": [
    {
     "data": {
      "text/plain": [
       "<matplotlib.axes._subplots.AxesSubplot at 0x7fbb48e68a90>"
      ]
     },
     "execution_count": 11,
     "metadata": {},
     "output_type": "execute_result"
    },
    {
     "data": {
      "image/png": "[encoded data removed]",
      "text/plain": [
       "<Figure size 432x288 with 1 Axes>"
      ]
     },
     "metadata": {
      "needs_background": "light"
     },
     "output_type": "display_data"
    }
   ],
   "source": [
    "Scaledtime_ser_HH_compt.plot(kind='line')"
   ]
  },
  {
   "cell_type": "markdown",
   "metadata": {},
   "source": [
    "Before we create the models, we need to split the data into train and test set. Lets choose the last 11 as the test set for model performance validation and the rest for the train set."
   ]
  },
  {
   "cell_type": "code",
   "execution_count": 12,
   "metadata": {},
   "outputs": [],
   "source": [
    "Train_set =  Scaledtime_ser_HH_compt[:len(Scaledtime_ser_HH_compt)-11]\n",
    "# keep the test set with real value\n",
    "Test_set = time_ser_HH_compt[len(Scaledtime_ser_HH_compt)-11:]"
   ]
  },
  {
   "cell_type": "markdown",
   "metadata": {},
   "source": [
    "Next, lets do the modeling."
   ]
  },
  {
   "cell_type": "markdown",
   "metadata": {},
   "source": [
    "### The models ### "
   ]
  },
  {
   "cell_type": "markdown",
   "metadata": {},
   "source": [
    "***<font size = 3>0. The persistence model</font>***"
   ]
  },
  {
   "cell_type": "markdown",
   "metadata": {},
   "source": [
    "First, lets create the persistence model as the baseline performance. The model performance will be measured using root means squared error(RMSE)."
   ]
  },
  {
   "cell_type": "code",
   "execution_count": 13,
   "metadata": {},
   "outputs": [
    {
     "name": "stdout",
     "output_type": "stream",
     "text": [
      "Persistence model score:  10452.477857600865\n"
     ]
    }
   ],
   "source": [
    "real_data = time_ser_HH_compt[48:]\n",
    "prediction =  time_ser_HH_compt[47:58]\n",
    "\n",
    "# RMSE score\n",
    "score =  sqrt(mean_squared_error(real_data, prediction))\n",
    "print(\"Persistence model score: \", score)"
   ]
  },
  {
   "cell_type": "markdown",
   "metadata": {},
   "source": [
    "***<font size = 3>1. The FFT(Fast Fourier Transform) model</font>***"
   ]
  },
  {
   "cell_type": "markdown",
   "metadata": {},
   "source": [
    "Next, lets try FFT model. There are some  conditions need to be fullfiled for FFT model, which are that there is periodicity in the data, and it needs to be stationary (not need to be point by point, but at least period by period)."
   ]
  },
  {
   "cell_type": "code",
   "execution_count": 14,
   "metadata": {},
   "outputs": [],
   "source": [
    "# Number of trained data\n",
    "N = len(Train_set)\n",
    "# Do FFT\n",
    "fft_Train_set = np.fft.fft(Train_set)\n",
    "# Calculate the frequency\n",
    "freq = np.fft.fftfreq(N)\n",
    "# Calculate the amplitude\n",
    "Amp = np.abs(fft_Train_set)/N\n",
    "# Calculate the phase\n",
    "Phase = np.angle(fft_Train_set)"
   ]
  },
  {
   "cell_type": "markdown",
   "metadata": {},
   "source": [
    "Lets plot the amplitude vs frequency."
   ]
  },
  {
   "cell_type": "code",
   "execution_count": 15,
   "metadata": {},
   "outputs": [
    {
     "data": {
      "image/png": "[encoded data removed]",
      "text/plain": [
       "<Figure size 720x504 with 1 Axes>"
      ]
     },
     "metadata": {
      "needs_background": "light"
     },
     "output_type": "display_data"
    }
   ],
   "source": [
    "plt.figure(figsize=(10,7))\n",
    "plt.plot(freq, Amp)\n",
    "plt.title('Amplitude vs Frequency')\n",
    "plt.xlabel('Frequency')\n",
    "plt.ylabel('Amplitude')\n",
    "plt.show()"
   ]
  },
  {
   "cell_type": "markdown",
   "metadata": {},
   "source": [
    "Filter the functions with these criteria:\n",
    " <ul>\n",
    "  <li>Amplitude more than 3</li>\n",
    "  <li>Frequency between 0 and 0.3</li>\n",
    "</ul> "
   ]
  },
  {
   "cell_type": "code",
   "execution_count": 16,
   "metadata": {},
   "outputs": [],
   "source": [
    "# filtering amplitude, frequency and phase\n",
    "filter_ = np.logical_or(np.logical_and(freq >= 0, freq < 0.3), Amp > 3)\n",
    "filtered_freq = freq[filter_]\n",
    "filtered_amp = Amp[filter_]\n",
    "filtered_phase = Phase [filter_]"
   ]
  },
  {
   "cell_type": "markdown",
   "metadata": {},
   "source": [
    "Create model function."
   ]
  },
  {
   "cell_type": "code",
   "execution_count": 17,
   "metadata": {},
   "outputs": [],
   "source": [
    "def func_model(x, amplitude, phase, freq):\n",
    "    a = []\n",
    "    for i in x:\n",
    "        f = np.cos(2*np.pi*freq*i + phase)\n",
    "        a.append(np.dot(amplitude, f))\n",
    "    return np.array(a)"
   ]
  },
  {
   "cell_type": "markdown",
   "metadata": {},
   "source": [
    "Make predictions for time series index 0 to 59 (Note that there are 60 point predictions)."
   ]
  },
  {
   "cell_type": "code",
   "execution_count": 18,
   "metadata": {},
   "outputs": [],
   "source": [
    "index_series = np.arange(48, 59, 1)\n",
    "predictions1 = func_model(index_series, filtered_amp, filtered_phase, filtered_freq )\n",
    "predictions1_inverted = scaler.inverse_transform(predictions1.reshape(-1,1))"
   ]
  },
  {
   "cell_type": "markdown",
   "metadata": {},
   "source": [
    "Plot the real data vs prediction values."
   ]
  },
  {
   "cell_type": "code",
   "execution_count": 47,
   "metadata": {},
   "outputs": [
    {
     "data": {
      "image/png": "[encoded data removed]",
      "text/plain": [
       "<Figure size 720x504 with 1 Axes>"
      ]
     },
     "metadata": {
      "needs_background": "light"
     },
     "output_type": "display_data"
    }
   ],
   "source": [
    "predict_date_range = pd.date_range(start='2/1/2018', end='1/1/2019', freq='M')\n",
    "plt.figure(figsize=(10,7))\n",
    "plt.plot(predict_date_range, Test_set, color = 'r', label = 'True value')\n",
    "plt.plot(predict_date_range, predictions1_inverted, color = 'g', label = 'Predictions')\n",
    "plt.title('Comparison plot')\n",
    "plt.xlabel('Month')\n",
    "plt.ylabel('Number of complaint(scaled)')\n",
    "plt.legend()\n",
    "plt.show()"
   ]
  },
  {
   "cell_type": "markdown",
   "metadata": {},
   "source": [
    "We see that the model could track the pattern."
   ]
  },
  {
   "cell_type": "markdown",
   "metadata": {},
   "source": [
    "Now lets calculate the performance score of the FFT model."
   ]
  },
  {
   "cell_type": "code",
   "execution_count": 20,
   "metadata": {},
   "outputs": [
    {
     "name": "stdout",
     "output_type": "stream",
     "text": [
      "FFT model score:  5845.825349055646\n"
     ]
    }
   ],
   "source": [
    "# calculate RMSE score\n",
    "score =  sqrt(mean_squared_error(Test_set, predictions1_inverted))\n",
    "print(\"FFT model score: \", score)"
   ]
  },
  {
   "cell_type": "markdown",
   "metadata": {},
   "source": [
    "***<font size = 3>2. SARIMA model</font>***"
   ]
  },
  {
   "cell_type": "markdown",
   "metadata": {},
   "source": [
    "Sarima model have parameter (p, d, q)x(P, D, Q)m that need to be tuned to find the best model, it will be tedious to use some analysis using ACF and PACF to find these parameters. Instead, lets automate this process using pmdarima.auto_arima. "
   ]
  },
  {
   "cell_type": "code",
   "execution_count": 24,
   "metadata": {},
   "outputs": [],
   "source": [
    "# fit stepwise auto-ARIMA, choose m = 12, since the seasonal pattern occurs every 12 month\n",
    "stepwise_fit = pm.auto_arima(Train_set, start_p=0, d=0, start_q=0,\n",
    "                             max_p=12, max_d= 2, max_q=12,\n",
    "                             start_P=0, D=0, start_Q=0, seasonal=True,\n",
    "                             max_P=3, max_D=2, max_Q=3,\n",
    "                             max_order = None, m=12, trace=False,\n",
    "                             error_action='ignore',  # don't want to know if an order does not work\n",
    "                             suppress_warnings=True,  # don't want convergence warnings\n",
    "                             stepwise=False)  # set to stepwise"
   ]
  },
  {
   "cell_type": "code",
   "execution_count": 25,
   "metadata": {},
   "outputs": [
    {
     "data": {
      "text/html": [
       "<table class=\"simpletable\">\n",
       "<caption>Statespace Model Results</caption>\n",
       "<tr>\n",
       "  <th>Dep. Variable:</th>           <td>y</td>        <th>  No. Observations:  </th>    <td>48</td>   \n",
       "</tr>\n",
       "<tr>\n",
       "  <th>Model:</th>           <td>SARIMAX(2, 0, 3)</td> <th>  Log Likelihood     </th> <td>-198.210</td>\n",
       "</tr>\n",
       "<tr>\n",
       "  <th>Date:</th>            <td>Mon, 08 Apr 2019</td> <th>  AIC                </th>  <td>410.420</td>\n",
       "</tr>\n",
       "<tr>\n",
       "  <th>Time:</th>                <td>12:27:28</td>     <th>  BIC                </th>  <td>423.519</td>\n",
       "</tr>\n",
       "<tr>\n",
       "  <th>Sample:</th>                  <td>0</td>        <th>  HQIC               </th>  <td>415.370</td>\n",
       "</tr>\n",
       "<tr>\n",
       "  <th></th>                       <td> - 48</td>      <th>                     </th>     <td> </td>   \n",
       "</tr>\n",
       "<tr>\n",
       "  <th>Covariance Type:</th>        <td>opg</td>       <th>                     </th>     <td> </td>   \n",
       "</tr>\n",
       "</table>\n",
       "<table class=\"simpletable\">\n",
       "<tr>\n",
       "      <td></td>         <th>coef</th>     <th>std err</th>      <th>z</th>      <th>P>|z|</th>  <th>[0.025</th>    <th>0.975]</th>  \n",
       "</tr>\n",
       "<tr>\n",
       "  <th>intercept</th> <td>    7.9541</td> <td>    0.677</td> <td>   11.741</td> <td> 0.000</td> <td>    6.626</td> <td>    9.282</td>\n",
       "</tr>\n",
       "<tr>\n",
       "  <th>ar.L1</th>     <td>    1.7333</td> <td>    0.006</td> <td>  276.576</td> <td> 0.000</td> <td>    1.721</td> <td>    1.746</td>\n",
       "</tr>\n",
       "<tr>\n",
       "  <th>ar.L2</th>     <td>   -1.0000</td> <td>    0.001</td> <td>-1605.683</td> <td> 0.000</td> <td>   -1.001</td> <td>   -0.999</td>\n",
       "</tr>\n",
       "<tr>\n",
       "  <th>ma.L1</th>     <td>   -1.7120</td> <td>    0.272</td> <td>   -6.295</td> <td> 0.000</td> <td>   -2.245</td> <td>   -1.179</td>\n",
       "</tr>\n",
       "<tr>\n",
       "  <th>ma.L2</th>     <td>    0.9764</td> <td>    0.418</td> <td>    2.333</td> <td> 0.020</td> <td>    0.156</td> <td>    1.797</td>\n",
       "</tr>\n",
       "<tr>\n",
       "  <th>ma.L3</th>     <td>    0.0127</td> <td>    0.163</td> <td>    0.078</td> <td> 0.938</td> <td>   -0.307</td> <td>    0.332</td>\n",
       "</tr>\n",
       "<tr>\n",
       "  <th>sigma2</th>    <td>  184.1252</td> <td>    0.003</td> <td> 5.38e+04</td> <td> 0.000</td> <td>  184.118</td> <td>  184.132</td>\n",
       "</tr>\n",
       "</table>\n",
       "<table class=\"simpletable\">\n",
       "<tr>\n",
       "  <th>Ljung-Box (Q):</th>          <td>36.30</td> <th>  Jarque-Bera (JB):  </th> <td>0.81</td>\n",
       "</tr>\n",
       "<tr>\n",
       "  <th>Prob(Q):</th>                <td>0.64</td>  <th>  Prob(JB):          </th> <td>0.67</td>\n",
       "</tr>\n",
       "<tr>\n",
       "  <th>Heteroskedasticity (H):</th> <td>1.32</td>  <th>  Skew:              </th> <td>0.30</td>\n",
       "</tr>\n",
       "<tr>\n",
       "  <th>Prob(H) (two-sided):</th>    <td>0.59</td>  <th>  Kurtosis:          </th> <td>2.77</td>\n",
       "</tr>\n",
       "</table><br/><br/>Warnings:<br/>[1] Covariance matrix calculated using the outer product of gradients (complex-step).<br/>[2] Covariance matrix is singular or near-singular, with condition number 1.9e+20. Standard errors may be unstable."
      ],
      "text/plain": [
       "<class 'statsmodels.iolib.summary.Summary'>\n",
       "\"\"\"\n",
       "                           Statespace Model Results                           \n",
       "==============================================================================\n",
       "Dep. Variable:                      y   No. Observations:                   48\n",
       "Model:               SARIMAX(2, 0, 3)   Log Likelihood                -198.210\n",
       "Date:                Mon, 08 Apr 2019   AIC                            410.420\n",
       "Time:                        12:27:28   BIC                            423.519\n",
       "Sample:                             0   HQIC                           415.370\n",
       "                                 - 48                                         \n",
       "Covariance Type:                  opg                                         \n",
       "==============================================================================\n",
       "                 coef    std err          z      P>|z|      [0.025      0.975]\n",
       "------------------------------------------------------------------------------\n",
       "intercept      7.9541      0.677     11.741      0.000       6.626       9.282\n",
       "ar.L1          1.7333      0.006    276.576      0.000       1.721       1.746\n",
       "ar.L2         -1.0000      0.001  -1605.683      0.000      -1.001      -0.999\n",
       "ma.L1         -1.7120      0.272     -6.295      0.000      -2.245      -1.179\n",
       "ma.L2          0.9764      0.418      2.333      0.020       0.156       1.797\n",
       "ma.L3          0.0127      0.163      0.078      0.938      -0.307       0.332\n",
       "sigma2       184.1252      0.003   5.38e+04      0.000     184.118     184.132\n",
       "===================================================================================\n",
       "Ljung-Box (Q):                       36.30   Jarque-Bera (JB):                 0.81\n",
       "Prob(Q):                              0.64   Prob(JB):                         0.67\n",
       "Heteroskedasticity (H):               1.32   Skew:                             0.30\n",
       "Prob(H) (two-sided):                  0.59   Kurtosis:                         2.77\n",
       "===================================================================================\n",
       "\n",
       "Warnings:\n",
       "[1] Covariance matrix calculated using the outer product of gradients (complex-step).\n",
       "[2] Covariance matrix is singular or near-singular, with condition number 1.9e+20. Standard errors may be unstable.\n",
       "\"\"\""
      ]
     },
     "execution_count": 25,
     "metadata": {},
     "output_type": "execute_result"
    }
   ],
   "source": [
    "# Check best model summary \n",
    "stepwise_fit.summary()"
   ]
  },
  {
   "cell_type": "markdown",
   "metadata": {},
   "source": [
    "The auto_arima choose (2, 0, 3)x(0, 0, 0)12 as the best model parameter i.e it turns out that ARMA is the best model. Next, lets create model and make predictions."
   ]
  },
  {
   "cell_type": "code",
   "execution_count": 21,
   "metadata": {},
   "outputs": [
    {
     "name": "stderr",
     "output_type": "stream",
     "text": [
      "/home/hadji-mufushi/.local/lib/python3.6/site-packages/statsmodels/base/model.py:508: ConvergenceWarning: Maximum Likelihood optimization failed to converge. Check mle_retvals\n",
      "  \"Check mle_retvals\", ConvergenceWarning)\n"
     ]
    }
   ],
   "source": [
    "# create SARIMA model\n",
    "model = sm.tsa.statespace.SARIMAX(Train_set, order=(2,0,3), seasonal_order=(0,0,0,12), trend = 'c')\n",
    "model_fit = model.fit()"
   ]
  },
  {
   "cell_type": "code",
   "execution_count": 22,
   "metadata": {},
   "outputs": [],
   "source": [
    "# calculate predictions by the SARIMA model\n",
    "predictions2 = model_fit.predict(start=48, end=58, dynamic=False)\n",
    "# since it is imposible for the number of complaint to be negative, lets take the negative predictions into 0 \n",
    "predictions2[predictions2 < 0] = 0\n",
    "predictions2_inverted = scaler.inverse_transform(predictions2.values.reshape(-1, 1))"
   ]
  },
  {
   "cell_type": "markdown",
   "metadata": {},
   "source": [
    "Plot the real data vs prediction values."
   ]
  },
  {
   "cell_type": "code",
   "execution_count": 48,
   "metadata": {},
   "outputs": [
    {
     "data": {
      "image/png": "[encoded data removed]",
      "text/plain": [
       "<Figure size 720x504 with 1 Axes>"
      ]
     },
     "metadata": {
      "needs_background": "light"
     },
     "output_type": "display_data"
    }
   ],
   "source": [
    "plt.figure(figsize=(10,7))\n",
    "plt.plot(predict_date_range, Test_set, color = 'r', label = 'True value')\n",
    "plt.plot(predict_date_range, predictions2_inverted, color = 'g', label = 'Predictions')\n",
    "plt.title('Comparison plot')\n",
    "plt.xlabel('Month')\n",
    "plt.ylabel('Number of complaint')\n",
    "plt.legend()\n",
    "plt.show()"
   ]
  },
  {
   "cell_type": "markdown",
   "metadata": {},
   "source": [
    "Calculate the performance score of SARIMA model."
   ]
  },
  {
   "cell_type": "code",
   "execution_count": 24,
   "metadata": {},
   "outputs": [
    {
     "name": "stdout",
     "output_type": "stream",
     "text": [
      "SARIMA model score:  4866.659926315047\n"
     ]
    }
   ],
   "source": [
    "score = sqrt(mean_squared_error(Test_set, predictions2_inverted))\n",
    "print('SARIMA model score: ', score )"
   ]
  },
  {
   "cell_type": "markdown",
   "metadata": {},
   "source": [
    "We see there is an improvement from the previous model. Next, lets try LSTM model."
   ]
  },
  {
   "cell_type": "markdown",
   "metadata": {},
   "source": [
    "***<font size = 3>3. LSTM model</font>***"
   ]
  },
  {
   "cell_type": "markdown",
   "metadata": {},
   "source": [
    "***<font size = 4>Preprocessing data</font>***"
   ]
  },
  {
   "cell_type": "markdown",
   "metadata": {},
   "source": [
    "First, we need to prepare the data, so that it can be processed as an input for the LSTM layer by change the data dimension into (n_sample, n_step, n_features) and separate it into train and test set."
   ]
  },
  {
   "cell_type": "code",
   "execution_count": 25,
   "metadata": {},
   "outputs": [],
   "source": [
    "# change data into np.array\n",
    "data_series = Scaledtime_ser_HH_compt.values"
   ]
  },
  {
   "cell_type": "markdown",
   "metadata": {},
   "source": [
    "Define a split sequence function to spilt the series into multiple series and its label/next number of the sequence."
   ]
  },
  {
   "cell_type": "code",
   "execution_count": 26,
   "metadata": {},
   "outputs": [],
   "source": [
    "# split a univariate sequence into samples\n",
    "def split_sequence(sequence, n_steps):\n",
    "    X, y = list(), list()\n",
    "    for i in range(len(sequence)):\n",
    "    # find the end of this pattern\n",
    "        end_ix = i + n_steps\n",
    "        # check if we are beyond the sequence\n",
    "        if end_ix > len(sequence)-1:\n",
    "            break\n",
    "        # gather input and output parts of the pattern\n",
    "        seq_x, seq_y = sequence[i:end_ix], sequence[end_ix]\n",
    "        X.append(seq_x)\n",
    "        y.append(seq_y)\n",
    "    return np.array(X), np.array(y)"
   ]
  },
  {
   "cell_type": "code",
   "execution_count": 27,
   "metadata": {},
   "outputs": [],
   "source": [
    "# set the time step\n",
    "n_steps = 10\n",
    "#split the series into multiple sequence\n",
    "X, y = split_sequence(data_series, n_steps)"
   ]
  },
  {
   "cell_type": "code",
   "execution_count": 28,
   "metadata": {},
   "outputs": [],
   "source": [
    "# Split the sequences of data into train and test set\n",
    "# As before, we take the last 11 data as the test set\n",
    "X_train, y_train = X[:len(X)-11], y[:len(X)-11]\n",
    "X_test, y_test = X[len(X)-11:], y[len(X)-11:]"
   ]
  },
  {
   "cell_type": "code",
   "execution_count": 29,
   "metadata": {},
   "outputs": [],
   "source": [
    "# Reshape the dimension of train and test feature set into (n_sample, n_step, n_features)\n",
    "X_train = np.reshape(X_train, (X_train.shape[0], X_train.shape[1], 1))\n",
    "X_test = np.reshape(X_test, (X_test.shape[0], X_test.shape[1], 1))  "
   ]
  },
  {
   "cell_type": "markdown",
   "metadata": {},
   "source": [
    "***<font size = 4>Create and train model</font>***"
   ]
  },
  {
   "cell_type": "markdown",
   "metadata": {},
   "source": [
    "Now, lets create the LSTM model using keras library."
   ]
  },
  {
   "cell_type": "code",
   "execution_count": 1,
   "metadata": {},
   "outputs": [
    {
     "name": "stderr",
     "output_type": "stream",
     "text": [
      "Using TensorFlow backend.\n"
     ]
    }
   ],
   "source": [
    "# import the necessary library\n",
    "from keras.models import Sequential  \n",
    "from keras.layers import Dense, LSTM, Dropout  \n",
    "from keras.callbacks import EarlyStopping, ModelCheckpoint, ReduceLROnPlateau"
   ]
  },
  {
   "cell_type": "code",
   "execution_count": 2,
   "metadata": {},
   "outputs": [],
   "source": [
    "# define model\n",
    "def TS_model():\n",
    "    \n",
    "    model = Sequential()  \n",
    "    model.add(LSTM(units=50, input_shape=(n_steps, 1), activation = 'relu', return_sequences=True))  \n",
    "    model.add(Dropout(0.1))\n",
    "    \n",
    "    model.add(LSTM(units=50, activation = 'relu'))  \n",
    "    model.add(Dropout(0.1))\n",
    "      \n",
    "    model.add(Dense(units = 1))  \n",
    "    \n",
    "    model.compile(optimizer = 'adam', loss = 'mean_squared_error')\n",
    "    return model"
   ]
  },
  {
   "cell_type": "code",
   "execution_count": 3,
   "metadata": {},
   "outputs": [],
   "source": [
    "# set the callback functions\n",
    "earlyStopping = EarlyStopping(monitor='val_loss', patience=500, verbose=0, mode='min')\n",
    "mcp_save = ModelCheckpoint('lstm_time_series.hdf5', save_best_only=True, \n",
    "                           monitor='val_loss', mode='min')\n",
    "reduce_lr_loss = ReduceLROnPlateau(monitor='val_loss', factor=0.1, patience=200, verbose=1, min_delta=1e-4, mode='min')"
   ]
  },
  {
   "cell_type": "code",
   "execution_count": 20,
   "metadata": {},
   "outputs": [
    {
     "name": "stdout",
     "output_type": "stream",
     "text": [
      "WARNING:tensorflow:From /home/hadji-mufushi/venv/lib/python3.6/site-packages/tensorflow/python/framework/op_def_library.py:263: colocate_with (from tensorflow.python.framework.ops) is deprecated and will be removed in a future version.\n",
      "Instructions for updating:\n",
      "Colocations handled automatically by placer.\n",
      "WARNING:tensorflow:From /home/hadji-mufushi/venv/lib/python3.6/site-packages/keras/backend/tensorflow_backend.py:3445: calling dropout (from tensorflow.python.ops.nn_ops) with keep_prob is deprecated and will be removed in a future version.\n",
      "Instructions for updating:\n",
      "Please use `rate` instead of `keep_prob`. Rate should be set to `rate = 1 - keep_prob`.\n",
      "WARNING:tensorflow:From /home/hadji-mufushi/venv/lib/python3.6/site-packages/tensorflow/python/ops/math_ops.py:3066: to_int32 (from tensorflow.python.ops.math_ops) is deprecated and will be removed in a future version.\n",
      "Instructions for updating:\n",
      "Use tf.cast instead.\n",
      "Train on 38 samples, validate on 11 samples\n",
      "Epoch 1/1000\n",
      " - 1s - loss: 1953.6731 - val_loss: 1516.5027\n",
      "Epoch 2/1000\n",
      " - 0s - loss: 1900.8865 - val_loss: 1484.0140\n",
      "Epoch 3/1000\n",
      " - 0s - loss: 1866.0707 - val_loss: 1454.7860\n",
      "Epoch 4/1000\n",
      " - 0s - loss: 1840.2568 - val_loss: 1427.1813\n",
      "Epoch 5/1000\n",
      " - 0s - loss: 1799.3756 - val_loss: 1400.0294\n",
      "Epoch 6/1000\n",
      " - 0s - loss: 1781.2181 - val_loss: 1372.2715\n",
      "Epoch 7/1000\n",
      " - 0s - loss: 1759.0140 - val_loss: 1344.0419\n",
      "Epoch 8/1000\n",
      " - 0s - loss: 1738.6840 - val_loss: 1313.8867\n",
      "Epoch 9/1000\n",
      " - 0s - loss: 1682.1143 - val_loss: 1281.3958\n",
      "Epoch 10/1000\n",
      " - 0s - loss: 1679.2166 - val_loss: 1245.2267\n",
      "Epoch 11/1000\n",
      " - 0s - loss: 1615.1957 - val_loss: 1203.9894\n",
      "Epoch 12/1000\n",
      " - 0s - loss: 1585.9525 - val_loss: 1152.4878\n",
      "Epoch 13/1000\n",
      " - 0s - loss: 1511.2458 - val_loss: 1088.4491\n",
      "Epoch 14/1000\n",
      " - 0s - loss: 1470.5636 - val_loss: 1017.7814\n",
      "Epoch 15/1000\n",
      " - 0s - loss: 1342.5520 - val_loss: 952.1983\n",
      "Epoch 16/1000\n",
      " - 0s - loss: 1289.0602 - val_loss: 878.5488\n",
      "Epoch 17/1000\n",
      " - 0s - loss: 1178.3724 - val_loss: 807.0184\n",
      "Epoch 18/1000\n",
      " - 0s - loss: 1158.0076 - val_loss: 726.2244\n",
      "Epoch 19/1000\n",
      " - 0s - loss: 1035.3362 - val_loss: 641.7048\n",
      "Epoch 20/1000\n",
      " - 0s - loss: 1117.8944 - val_loss: 550.6924\n",
      "Epoch 21/1000\n",
      " - 0s - loss: 850.6616 - val_loss: 485.7499\n",
      "Epoch 22/1000\n",
      " - 0s - loss: 820.0979 - val_loss: 424.2950\n",
      "Epoch 23/1000\n",
      " - 0s - loss: 703.0696 - val_loss: 356.9855\n",
      "Epoch 24/1000\n",
      " - 0s - loss: 744.3079 - val_loss: 291.8830\n",
      "Epoch 25/1000\n",
      " - 0s - loss: 573.6848 - val_loss: 228.8076\n",
      "Epoch 26/1000\n",
      " - 0s - loss: 508.8565 - val_loss: 184.9461\n",
      "Epoch 27/1000\n",
      " - 0s - loss: 428.6381 - val_loss: 171.2777\n",
      "Epoch 28/1000\n",
      " - 0s - loss: 343.8367 - val_loss: 187.4763\n",
      "Epoch 29/1000\n",
      " - 0s - loss: 398.9200 - val_loss: 186.2451\n",
      "Epoch 30/1000\n",
      " - 0s - loss: 318.0730 - val_loss: 162.2923\n",
      "Epoch 31/1000\n",
      " - 0s - loss: 382.8507 - val_loss: 137.0764\n",
      "Epoch 32/1000\n",
      " - 0s - loss: 336.4816 - val_loss: 141.6605\n",
      "Epoch 33/1000\n",
      " - 0s - loss: 280.5089 - val_loss: 170.6022\n",
      "Epoch 34/1000\n",
      " - 0s - loss: 449.3438 - val_loss: 198.1118\n",
      "Epoch 35/1000\n",
      " - 0s - loss: 416.5615 - val_loss: 205.5799\n",
      "Epoch 36/1000\n",
      " - 0s - loss: 403.8380 - val_loss: 194.7632\n",
      "Epoch 37/1000\n",
      " - 0s - loss: 370.3625 - val_loss: 171.0956\n",
      "Epoch 38/1000\n",
      " - 0s - loss: 264.3669 - val_loss: 142.5981\n",
      "Epoch 39/1000\n",
      " - 0s - loss: 231.5373 - val_loss: 138.3634\n",
      "Epoch 40/1000\n",
      " - 0s - loss: 321.3491 - val_loss: 153.4664\n",
      "Epoch 41/1000\n",
      " - 0s - loss: 283.5291 - val_loss: 179.1601\n",
      "Epoch 42/1000\n",
      " - 0s - loss: 302.2059 - val_loss: 203.3778\n",
      "Epoch 43/1000\n",
      " - 0s - loss: 332.8762 - val_loss: 198.9592\n",
      "Epoch 44/1000\n",
      " - 0s - loss: 227.3071 - val_loss: 177.4563\n",
      "Epoch 45/1000\n",
      " - 0s - loss: 271.2000 - val_loss: 153.0317\n",
      "Epoch 46/1000\n",
      " - 0s - loss: 270.5461 - val_loss: 124.3950\n",
      "Epoch 47/1000\n",
      " - 0s - loss: 157.5424 - val_loss: 114.7938\n",
      "Epoch 48/1000\n",
      " - 0s - loss: 254.1661 - val_loss: 112.4561\n",
      "Epoch 49/1000\n",
      " - 0s - loss: 305.9694 - val_loss: 108.7538\n",
      "Epoch 50/1000\n",
      " - 0s - loss: 176.2684 - val_loss: 105.6767\n",
      "Epoch 51/1000\n",
      " - 0s - loss: 191.8644 - val_loss: 102.6678\n",
      "Epoch 52/1000\n",
      " - 0s - loss: 178.3156 - val_loss: 98.2519\n",
      "Epoch 53/1000\n",
      " - 0s - loss: 110.3423 - val_loss: 92.5044\n",
      "Epoch 54/1000\n",
      " - 0s - loss: 202.7029 - val_loss: 86.5034\n",
      "Epoch 55/1000\n",
      " - 0s - loss: 174.1688 - val_loss: 79.0666\n",
      "Epoch 56/1000\n",
      " - 0s - loss: 159.9779 - val_loss: 74.8879\n",
      "Epoch 57/1000\n",
      " - 0s - loss: 146.3576 - val_loss: 69.0436\n",
      "Epoch 58/1000\n",
      " - 0s - loss: 160.2357 - val_loss: 64.3033\n",
      "Epoch 59/1000\n",
      " - 0s - loss: 181.3915 - val_loss: 64.1324\n",
      "Epoch 60/1000\n",
      " - 0s - loss: 196.1674 - val_loss: 61.3820\n",
      "Epoch 61/1000\n",
      " - 0s - loss: 177.2260 - val_loss: 59.1028\n",
      "Epoch 62/1000\n",
      " - 0s - loss: 170.2177 - val_loss: 61.3913\n",
      "Epoch 63/1000\n",
      " - 0s - loss: 211.9718 - val_loss: 61.8210\n",
      "Epoch 64/1000\n",
      " - 0s - loss: 111.0975 - val_loss: 59.8880\n",
      "Epoch 65/1000\n",
      " - 0s - loss: 228.2034 - val_loss: 57.2850\n",
      "Epoch 66/1000\n",
      " - 0s - loss: 218.3130 - val_loss: 56.2249\n",
      "Epoch 67/1000\n",
      " - 0s - loss: 104.6310 - val_loss: 55.5760\n",
      "Epoch 68/1000\n",
      " - 0s - loss: 219.5616 - val_loss: 55.7553\n",
      "Epoch 69/1000\n",
      " - 0s - loss: 149.0533 - val_loss: 57.5309\n",
      "Epoch 70/1000\n",
      " - 0s - loss: 154.3080 - val_loss: 58.4377\n",
      "Epoch 71/1000\n",
      " - 0s - loss: 143.8919 - val_loss: 59.2400\n",
      "Epoch 72/1000\n",
      " - 0s - loss: 175.2585 - val_loss: 60.6034\n",
      "Epoch 73/1000\n",
      " - 0s - loss: 175.2150 - val_loss: 61.3176\n",
      "Epoch 74/1000\n",
      " - 0s - loss: 157.9940 - val_loss: 57.4730\n",
      "Epoch 75/1000\n",
      " - 0s - loss: 163.9055 - val_loss: 57.2139\n",
      "Epoch 76/1000\n",
      " - 0s - loss: 200.7941 - val_loss: 54.4933\n",
      "Epoch 77/1000\n",
      " - 0s - loss: 154.4639 - val_loss: 54.1545\n",
      "Epoch 78/1000\n",
      " - 0s - loss: 187.4637 - val_loss: 54.6356\n",
      "Epoch 79/1000\n",
      " - 0s - loss: 113.0918 - val_loss: 55.6590\n",
      "Epoch 80/1000\n",
      " - 0s - loss: 134.2731 - val_loss: 49.6992\n",
      "Epoch 81/1000\n",
      " - 0s - loss: 124.3167 - val_loss: 49.1592\n",
      "Epoch 82/1000\n",
      " - 0s - loss: 115.3795 - val_loss: 52.0120\n",
      "Epoch 83/1000\n",
      " - 0s - loss: 156.3226 - val_loss: 60.0590\n",
      "Epoch 84/1000\n",
      " - 0s - loss: 129.4975 - val_loss: 67.6220\n",
      "Epoch 85/1000\n",
      " - 0s - loss: 138.1752 - val_loss: 73.0100\n",
      "Epoch 86/1000\n",
      " - 0s - loss: 112.4060 - val_loss: 73.5497\n",
      "Epoch 87/1000\n",
      " - 0s - loss: 135.1934 - val_loss: 70.7558\n",
      "Epoch 88/1000\n",
      " - 0s - loss: 132.9310 - val_loss: 66.1337\n",
      "Epoch 89/1000\n",
      " - 0s - loss: 130.3959 - val_loss: 59.3013\n",
      "Epoch 90/1000\n",
      " - 0s - loss: 114.6926 - val_loss: 52.0179\n",
      "Epoch 91/1000\n",
      " - 0s - loss: 112.5596 - val_loss: 48.8104\n",
      "Epoch 92/1000\n",
      " - 0s - loss: 101.9401 - val_loss: 46.1938\n",
      "Epoch 93/1000\n",
      " - 0s - loss: 140.6660 - val_loss: 44.8456\n",
      "Epoch 94/1000\n",
      " - 0s - loss: 148.8478 - val_loss: 45.3909\n",
      "Epoch 95/1000\n",
      " - 0s - loss: 73.8635 - val_loss: 46.7770\n",
      "Epoch 96/1000\n",
      " - 0s - loss: 99.3517 - val_loss: 49.7894\n",
      "Epoch 97/1000\n",
      " - 0s - loss: 127.9213 - val_loss: 52.6535\n",
      "Epoch 98/1000\n",
      " - 0s - loss: 124.0617 - val_loss: 60.8689\n",
      "Epoch 99/1000\n",
      " - 0s - loss: 62.8320 - val_loss: 73.6406\n",
      "Epoch 100/1000\n",
      " - 0s - loss: 169.1889 - val_loss: 78.8139\n",
      "Epoch 101/1000\n",
      " - 0s - loss: 135.4261 - val_loss: 77.5661\n",
      "Epoch 102/1000\n",
      " - 0s - loss: 134.1516 - val_loss: 77.2142\n",
      "Epoch 103/1000\n",
      " - 0s - loss: 138.5212 - val_loss: 82.4494\n",
      "Epoch 104/1000\n",
      " - 0s - loss: 76.3525 - val_loss: 81.6225\n",
      "Epoch 105/1000\n",
      " - 0s - loss: 90.4992 - val_loss: 75.6466\n",
      "Epoch 106/1000\n",
      " - 0s - loss: 116.8121 - val_loss: 70.3276\n",
      "Epoch 107/1000\n",
      " - 0s - loss: 83.2020 - val_loss: 72.2586\n",
      "Epoch 108/1000\n",
      " - 0s - loss: 137.7444 - val_loss: 71.6582\n",
      "Epoch 109/1000\n",
      " - 0s - loss: 123.2109 - val_loss: 68.7324\n",
      "Epoch 110/1000\n",
      " - 0s - loss: 91.1690 - val_loss: 59.1782\n",
      "Epoch 111/1000\n",
      " - 0s - loss: 55.0907 - val_loss: 54.6865\n",
      "Epoch 112/1000\n",
      " - 0s - loss: 43.1251 - val_loss: 57.7493\n",
      "Epoch 113/1000\n",
      " - 0s - loss: 98.6428 - val_loss: 54.3124\n",
      "Epoch 114/1000\n",
      " - 0s - loss: 84.4593 - val_loss: 55.6676\n",
      "Epoch 115/1000\n",
      " - 0s - loss: 79.7830 - val_loss: 60.0544\n",
      "Epoch 116/1000\n",
      " - 0s - loss: 109.9976 - val_loss: 68.2154\n",
      "Epoch 117/1000\n",
      " - 0s - loss: 64.8056 - val_loss: 75.4580\n",
      "Epoch 118/1000\n",
      " - 0s - loss: 77.5245 - val_loss: 74.5478\n",
      "Epoch 119/1000\n",
      " - 0s - loss: 85.1461 - val_loss: 69.7476\n",
      "Epoch 120/1000\n",
      " - 0s - loss: 94.5958 - val_loss: 68.7248\n",
      "Epoch 121/1000\n",
      " - 0s - loss: 138.4161 - val_loss: 73.2576\n",
      "Epoch 122/1000\n",
      " - 0s - loss: 72.5448 - val_loss: 71.7199\n",
      "Epoch 123/1000\n",
      " - 0s - loss: 56.9605 - val_loss: 73.4952\n",
      "Epoch 124/1000\n",
      " - 0s - loss: 50.2601 - val_loss: 78.7129\n",
      "Epoch 125/1000\n",
      " - 0s - loss: 86.7931 - val_loss: 81.3320\n",
      "Epoch 126/1000\n"
     ]
    },
    {
     "name": "stdout",
     "output_type": "stream",
     "text": [
      " - 0s - loss: 97.0238 - val_loss: 77.2281\n",
      "Epoch 127/1000\n",
      " - 0s - loss: 84.4700 - val_loss: 73.9753\n",
      "Epoch 128/1000\n",
      " - 0s - loss: 86.0423 - val_loss: 77.1016\n",
      "Epoch 129/1000\n",
      " - 0s - loss: 124.7243 - val_loss: 78.5038\n",
      "Epoch 130/1000\n",
      " - 0s - loss: 89.4292 - val_loss: 77.7518\n",
      "Epoch 131/1000\n",
      " - 0s - loss: 78.0967 - val_loss: 80.9119\n",
      "Epoch 132/1000\n",
      " - 0s - loss: 40.2150 - val_loss: 84.1561\n",
      "Epoch 133/1000\n",
      " - 0s - loss: 79.7950 - val_loss: 81.6882\n",
      "Epoch 134/1000\n",
      " - 0s - loss: 101.2656 - val_loss: 77.7000\n",
      "Epoch 135/1000\n",
      " - 0s - loss: 109.5415 - val_loss: 75.5675\n",
      "Epoch 136/1000\n",
      " - 0s - loss: 71.5648 - val_loss: 77.9137\n",
      "Epoch 137/1000\n",
      " - 0s - loss: 82.2788 - val_loss: 74.4469\n",
      "Epoch 138/1000\n",
      " - 0s - loss: 61.1036 - val_loss: 68.4264\n",
      "Epoch 139/1000\n",
      " - 0s - loss: 111.6528 - val_loss: 70.4888\n",
      "Epoch 140/1000\n",
      " - 0s - loss: 53.6484 - val_loss: 73.2988\n",
      "Epoch 141/1000\n",
      " - 0s - loss: 83.4587 - val_loss: 72.8751\n",
      "Epoch 142/1000\n",
      " - 0s - loss: 39.8390 - val_loss: 73.7167\n",
      "Epoch 143/1000\n",
      " - 0s - loss: 52.0362 - val_loss: 75.1620\n",
      "Epoch 144/1000\n",
      " - 0s - loss: 63.4184 - val_loss: 80.2446\n",
      "Epoch 145/1000\n",
      " - 0s - loss: 65.9159 - val_loss: 83.9122\n",
      "Epoch 146/1000\n",
      " - 0s - loss: 43.8616 - val_loss: 88.4630\n",
      "Epoch 147/1000\n",
      " - 0s - loss: 56.8277 - val_loss: 89.6742\n",
      "Epoch 148/1000\n",
      " - 0s - loss: 55.1299 - val_loss: 89.4331\n",
      "Epoch 149/1000\n",
      " - 0s - loss: 69.5349 - val_loss: 101.1639\n",
      "Epoch 150/1000\n",
      " - 0s - loss: 45.5576 - val_loss: 120.8920\n",
      "Epoch 151/1000\n",
      " - 0s - loss: 69.1786 - val_loss: 115.1115\n",
      "Epoch 152/1000\n",
      " - 0s - loss: 73.6390 - val_loss: 96.6985\n",
      "Epoch 153/1000\n",
      " - 0s - loss: 52.6496 - val_loss: 106.4378\n",
      "Epoch 154/1000\n",
      " - 0s - loss: 79.8666 - val_loss: 105.1245\n",
      "Epoch 155/1000\n",
      " - 0s - loss: 101.7961 - val_loss: 89.6359\n",
      "Epoch 156/1000\n",
      " - 0s - loss: 35.8455 - val_loss: 80.7889\n",
      "Epoch 157/1000\n",
      " - 0s - loss: 59.2699 - val_loss: 87.6333\n",
      "Epoch 158/1000\n",
      " - 0s - loss: 70.0745 - val_loss: 92.9616\n",
      "Epoch 159/1000\n",
      " - 0s - loss: 64.8579 - val_loss: 93.2399\n",
      "Epoch 160/1000\n",
      " - 0s - loss: 75.6134 - val_loss: 89.8675\n",
      "Epoch 161/1000\n",
      " - 0s - loss: 53.5043 - val_loss: 84.5171\n",
      "Epoch 162/1000\n",
      " - 0s - loss: 63.7989 - val_loss: 78.9510\n",
      "Epoch 163/1000\n",
      " - 0s - loss: 37.5744 - val_loss: 80.6702\n",
      "Epoch 164/1000\n",
      " - 0s - loss: 51.6201 - val_loss: 84.1121\n",
      "Epoch 165/1000\n",
      " - 0s - loss: 26.3222 - val_loss: 83.3325\n",
      "Epoch 166/1000\n",
      " - 0s - loss: 51.6094 - val_loss: 82.4013\n",
      "Epoch 167/1000\n",
      " - 0s - loss: 44.3585 - val_loss: 98.7717\n",
      "Epoch 168/1000\n",
      " - 0s - loss: 36.4603 - val_loss: 121.0553\n",
      "Epoch 169/1000\n",
      " - 0s - loss: 90.0978 - val_loss: 89.9644\n",
      "Epoch 170/1000\n",
      " - 0s - loss: 46.6014 - val_loss: 80.6343\n",
      "Epoch 171/1000\n",
      " - 0s - loss: 53.4974 - val_loss: 80.4265\n",
      "Epoch 172/1000\n",
      " - 0s - loss: 34.5725 - val_loss: 83.0659\n",
      "Epoch 173/1000\n",
      " - 0s - loss: 51.2109 - val_loss: 85.5652\n",
      "Epoch 174/1000\n",
      " - 0s - loss: 30.8083 - val_loss: 88.8197\n",
      "Epoch 175/1000\n",
      " - 0s - loss: 50.8078 - val_loss: 92.6937\n",
      "Epoch 176/1000\n",
      " - 0s - loss: 26.1629 - val_loss: 92.8244\n",
      "Epoch 177/1000\n",
      " - 0s - loss: 29.1128 - val_loss: 91.7670\n",
      "Epoch 178/1000\n",
      " - 0s - loss: 42.0533 - val_loss: 86.7651\n",
      "Epoch 179/1000\n",
      " - 0s - loss: 45.3137 - val_loss: 83.6874\n",
      "Epoch 180/1000\n",
      " - 0s - loss: 34.6328 - val_loss: 77.0300\n",
      "Epoch 181/1000\n",
      " - 0s - loss: 37.1689 - val_loss: 73.4459\n",
      "Epoch 182/1000\n",
      " - 0s - loss: 40.0099 - val_loss: 72.9860\n",
      "Epoch 183/1000\n",
      " - 0s - loss: 52.8551 - val_loss: 74.0892\n",
      "Epoch 184/1000\n",
      " - 0s - loss: 44.1639 - val_loss: 80.6405\n",
      "Epoch 185/1000\n",
      " - 0s - loss: 25.1029 - val_loss: 89.1062\n",
      "Epoch 186/1000\n",
      " - 0s - loss: 49.4757 - val_loss: 94.0783\n",
      "Epoch 187/1000\n",
      " - 0s - loss: 34.4710 - val_loss: 96.8336\n",
      "Epoch 188/1000\n",
      " - 0s - loss: 78.6168 - val_loss: 106.7877\n",
      "Epoch 189/1000\n",
      " - 0s - loss: 43.8654 - val_loss: 114.7482\n",
      "Epoch 190/1000\n",
      " - 0s - loss: 33.5941 - val_loss: 115.6642\n",
      "Epoch 191/1000\n",
      " - 0s - loss: 33.1988 - val_loss: 114.6328\n",
      "Epoch 192/1000\n",
      " - 0s - loss: 32.4273 - val_loss: 110.0150\n",
      "Epoch 193/1000\n",
      " - 0s - loss: 34.1919 - val_loss: 102.9163\n",
      "Epoch 194/1000\n",
      " - 0s - loss: 37.8733 - val_loss: 99.1684\n",
      "Epoch 195/1000\n",
      " - 0s - loss: 23.3399 - val_loss: 99.6943\n",
      "Epoch 196/1000\n",
      " - 0s - loss: 46.7094 - val_loss: 93.8031\n",
      "Epoch 197/1000\n",
      " - 0s - loss: 40.9026 - val_loss: 87.8509\n",
      "Epoch 198/1000\n",
      " - 0s - loss: 41.0551 - val_loss: 88.7031\n",
      "Epoch 199/1000\n",
      " - 0s - loss: 35.9983 - val_loss: 90.6152\n",
      "Epoch 200/1000\n",
      " - 0s - loss: 23.4117 - val_loss: 90.4340\n",
      "Epoch 201/1000\n",
      " - 0s - loss: 18.0039 - val_loss: 90.8501\n",
      "Epoch 202/1000\n",
      " - 0s - loss: 21.7101 - val_loss: 93.8990\n",
      "Epoch 203/1000\n",
      " - 0s - loss: 31.7894 - val_loss: 103.7882\n",
      "Epoch 204/1000\n",
      " - 0s - loss: 55.7394 - val_loss: 121.8780\n",
      "Epoch 205/1000\n",
      " - 0s - loss: 75.2143 - val_loss: 116.6116\n",
      "Epoch 206/1000\n",
      " - 0s - loss: 80.7091 - val_loss: 94.1508\n",
      "Epoch 207/1000\n",
      " - 0s - loss: 47.8011 - val_loss: 88.6184\n",
      "Epoch 208/1000\n",
      " - 0s - loss: 77.8850 - val_loss: 84.8723\n",
      "Epoch 209/1000\n",
      " - 0s - loss: 52.5716 - val_loss: 79.9390\n",
      "Epoch 210/1000\n",
      " - 0s - loss: 38.2429 - val_loss: 79.1207\n",
      "Epoch 211/1000\n",
      " - 0s - loss: 59.0826 - val_loss: 82.2971\n",
      "Epoch 212/1000\n",
      " - 0s - loss: 37.2522 - val_loss: 90.9848\n",
      "Epoch 213/1000\n",
      " - 0s - loss: 46.7752 - val_loss: 97.2463\n",
      "Epoch 214/1000\n",
      " - 0s - loss: 28.6564 - val_loss: 104.8196\n",
      "Epoch 215/1000\n",
      " - 0s - loss: 52.9356 - val_loss: 104.1911\n",
      "Epoch 216/1000\n",
      " - 0s - loss: 31.6051 - val_loss: 103.9294\n",
      "Epoch 217/1000\n",
      " - 0s - loss: 61.6842 - val_loss: 110.8219\n",
      "Epoch 218/1000\n",
      " - 0s - loss: 36.2899 - val_loss: 114.7310\n",
      "Epoch 219/1000\n",
      " - 0s - loss: 31.3715 - val_loss: 108.9743\n",
      "Epoch 220/1000\n",
      " - 0s - loss: 35.3081 - val_loss: 98.6103\n",
      "Epoch 221/1000\n",
      " - 0s - loss: 22.2245 - val_loss: 89.5322\n",
      "Epoch 222/1000\n",
      " - 0s - loss: 31.2226 - val_loss: 85.4658\n",
      "Epoch 223/1000\n",
      " - 0s - loss: 23.0615 - val_loss: 84.1868\n",
      "Epoch 224/1000\n",
      " - 0s - loss: 37.3881 - val_loss: 87.0180\n",
      "Epoch 225/1000\n",
      " - 0s - loss: 67.2455 - val_loss: 92.2016\n",
      "Epoch 226/1000\n",
      " - 0s - loss: 27.3047 - val_loss: 101.7699\n",
      "Epoch 227/1000\n",
      " - 0s - loss: 46.3476 - val_loss: 116.7682\n",
      "Epoch 228/1000\n",
      " - 0s - loss: 34.6927 - val_loss: 118.3202\n",
      "Epoch 229/1000\n",
      " - 0s - loss: 27.2767 - val_loss: 111.8000\n",
      "Epoch 230/1000\n",
      " - 0s - loss: 29.6799 - val_loss: 111.3000\n",
      "Epoch 231/1000\n",
      " - 0s - loss: 19.8427 - val_loss: 108.7548\n",
      "Epoch 232/1000\n",
      " - 0s - loss: 40.4056 - val_loss: 102.4331\n",
      "Epoch 233/1000\n",
      " - 0s - loss: 76.4481 - val_loss: 97.7782\n",
      "Epoch 234/1000\n",
      " - 0s - loss: 16.6783 - val_loss: 104.7619\n",
      "Epoch 235/1000\n",
      " - 0s - loss: 35.0798 - val_loss: 106.6146\n",
      "Epoch 236/1000\n",
      " - 0s - loss: 26.3067 - val_loss: 114.5434\n",
      "Epoch 237/1000\n",
      " - 0s - loss: 28.5084 - val_loss: 106.9513\n",
      "Epoch 238/1000\n",
      " - 0s - loss: 30.9380 - val_loss: 100.0668\n",
      "Epoch 239/1000\n",
      " - 0s - loss: 41.0540 - val_loss: 100.3214\n",
      "Epoch 240/1000\n",
      " - 0s - loss: 29.2084 - val_loss: 103.2443\n",
      "Epoch 241/1000\n",
      " - 0s - loss: 34.0621 - val_loss: 104.1684\n",
      "Epoch 242/1000\n",
      " - 0s - loss: 19.2592 - val_loss: 103.7560\n",
      "Epoch 243/1000\n",
      " - 0s - loss: 37.9086 - val_loss: 101.1686\n",
      "Epoch 244/1000\n",
      " - 0s - loss: 38.3001 - val_loss: 97.2249\n",
      "Epoch 245/1000\n",
      " - 0s - loss: 23.5634 - val_loss: 95.1403\n",
      "Epoch 246/1000\n",
      " - 0s - loss: 28.2793 - val_loss: 91.0368\n",
      "Epoch 247/1000\n",
      " - 0s - loss: 62.9390 - val_loss: 83.1694\n",
      "Epoch 248/1000\n",
      " - 0s - loss: 40.1021 - val_loss: 84.2682\n",
      "Epoch 249/1000\n",
      " - 0s - loss: 43.4793 - val_loss: 85.4998\n",
      "Epoch 250/1000\n",
      " - 0s - loss: 28.3247 - val_loss: 88.1278\n",
      "Epoch 251/1000\n",
      " - 0s - loss: 42.2959 - val_loss: 97.5432\n",
      "Epoch 252/1000\n",
      " - 0s - loss: 34.6006 - val_loss: 109.3239\n",
      "Epoch 253/1000\n",
      " - 0s - loss: 54.3204 - val_loss: 124.6734\n",
      "Epoch 254/1000\n",
      " - 0s - loss: 39.4587 - val_loss: 120.6698\n",
      "Epoch 255/1000\n",
      " - 0s - loss: 36.1335 - val_loss: 103.4622\n",
      "Epoch 256/1000\n",
      " - 0s - loss: 22.9179 - val_loss: 104.6505\n",
      "Epoch 257/1000\n",
      " - 0s - loss: 25.9116 - val_loss: 110.9349\n",
      "Epoch 258/1000\n",
      " - 0s - loss: 40.4517 - val_loss: 113.0447\n",
      "Epoch 259/1000\n",
      " - 0s - loss: 54.7981 - val_loss: 107.2135\n",
      "Epoch 260/1000\n",
      " - 0s - loss: 33.8293 - val_loss: 102.0406\n",
      "Epoch 261/1000\n",
      " - 0s - loss: 22.0706 - val_loss: 102.4767\n",
      "Epoch 262/1000\n",
      " - 0s - loss: 45.8745 - val_loss: 125.0521\n",
      "Epoch 263/1000\n",
      " - 0s - loss: 45.6118 - val_loss: 121.8116\n",
      "Epoch 264/1000\n",
      " - 0s - loss: 63.0935 - val_loss: 115.5842\n",
      "Epoch 265/1000\n",
      " - 0s - loss: 40.8922 - val_loss: 103.7017\n",
      "Epoch 266/1000\n",
      " - 0s - loss: 46.8639 - val_loss: 96.2610\n",
      "Epoch 267/1000\n",
      " - 0s - loss: 38.9367 - val_loss: 97.1377\n",
      "Epoch 268/1000\n",
      " - 0s - loss: 38.4435 - val_loss: 98.5014\n"
     ]
    },
    {
     "name": "stdout",
     "output_type": "stream",
     "text": [
      "Epoch 269/1000\n",
      " - 0s - loss: 99.2640 - val_loss: 97.9124\n",
      "Epoch 270/1000\n",
      " - 0s - loss: 26.5634 - val_loss: 99.5010\n",
      "Epoch 271/1000\n",
      " - 0s - loss: 32.0039 - val_loss: 115.7821\n",
      "Epoch 272/1000\n",
      " - 0s - loss: 30.2781 - val_loss: 135.1309\n",
      "Epoch 273/1000\n",
      " - 0s - loss: 64.9987 - val_loss: 110.9598\n",
      "Epoch 274/1000\n",
      " - 0s - loss: 46.2495 - val_loss: 93.1184\n",
      "Epoch 275/1000\n",
      " - 0s - loss: 20.7872 - val_loss: 87.6931\n",
      "Epoch 276/1000\n",
      " - 0s - loss: 35.4437 - val_loss: 88.4538\n",
      "Epoch 277/1000\n",
      " - 0s - loss: 34.8766 - val_loss: 84.8395\n",
      "Epoch 278/1000\n",
      " - 0s - loss: 59.1957 - val_loss: 77.4618\n",
      "Epoch 279/1000\n",
      " - 0s - loss: 21.4480 - val_loss: 76.6491\n",
      "Epoch 280/1000\n",
      " - 0s - loss: 27.6214 - val_loss: 88.8537\n",
      "Epoch 281/1000\n",
      " - 0s - loss: 20.9512 - val_loss: 97.9677\n",
      "Epoch 282/1000\n",
      " - 0s - loss: 26.9531 - val_loss: 92.9594\n",
      "Epoch 283/1000\n",
      " - 0s - loss: 37.8259 - val_loss: 82.0053\n",
      "Epoch 284/1000\n",
      " - 0s - loss: 38.7020 - val_loss: 84.9907\n",
      "Epoch 285/1000\n",
      " - 0s - loss: 18.7130 - val_loss: 90.2129\n",
      "Epoch 286/1000\n",
      " - 0s - loss: 33.2510 - val_loss: 95.1276\n",
      "Epoch 287/1000\n",
      " - 0s - loss: 28.3887 - val_loss: 98.0685\n",
      "Epoch 288/1000\n",
      " - 0s - loss: 17.3413 - val_loss: 99.3998\n",
      "Epoch 289/1000\n",
      " - 0s - loss: 46.5098 - val_loss: 97.6955\n",
      "Epoch 290/1000\n",
      " - 0s - loss: 48.1177 - val_loss: 101.9480\n",
      "Epoch 291/1000\n",
      " - 0s - loss: 59.5383 - val_loss: 119.1996\n",
      "Epoch 292/1000\n",
      " - 0s - loss: 51.1321 - val_loss: 127.0218\n",
      "Epoch 293/1000\n",
      " - 0s - loss: 39.1531 - val_loss: 110.0560\n",
      "\n",
      "Epoch 00293: ReduceLROnPlateau reducing learning rate to 0.00010000000474974513.\n",
      "Epoch 294/1000\n",
      " - 0s - loss: 23.3351 - val_loss: 108.2871\n",
      "Epoch 295/1000\n",
      " - 0s - loss: 36.9951 - val_loss: 105.2335\n",
      "Epoch 296/1000\n",
      " - 0s - loss: 29.1499 - val_loss: 101.8564\n",
      "Epoch 297/1000\n",
      " - 0s - loss: 35.4382 - val_loss: 99.2650\n",
      "Epoch 298/1000\n",
      " - 0s - loss: 24.2073 - val_loss: 97.0198\n",
      "Epoch 299/1000\n",
      " - 0s - loss: 31.2515 - val_loss: 95.1723\n",
      "Epoch 300/1000\n",
      " - 0s - loss: 53.6235 - val_loss: 94.0416\n",
      "Epoch 301/1000\n",
      " - 0s - loss: 55.6389 - val_loss: 93.4370\n",
      "Epoch 302/1000\n",
      " - 0s - loss: 43.0587 - val_loss: 92.8705\n",
      "Epoch 303/1000\n",
      " - 0s - loss: 29.7611 - val_loss: 92.7332\n",
      "Epoch 304/1000\n",
      " - 0s - loss: 17.8108 - val_loss: 92.9091\n",
      "Epoch 305/1000\n",
      " - 0s - loss: 33.5491 - val_loss: 93.2349\n",
      "Epoch 306/1000\n",
      " - 0s - loss: 31.7041 - val_loss: 93.5181\n",
      "Epoch 307/1000\n",
      " - 0s - loss: 24.8299 - val_loss: 93.8166\n",
      "Epoch 308/1000\n",
      " - 0s - loss: 40.2484 - val_loss: 94.2653\n",
      "Epoch 309/1000\n",
      " - 0s - loss: 44.7803 - val_loss: 94.9130\n",
      "Epoch 310/1000\n",
      " - 0s - loss: 15.9868 - val_loss: 95.3727\n",
      "Epoch 311/1000\n",
      " - 0s - loss: 32.5479 - val_loss: 95.8916\n",
      "Epoch 312/1000\n",
      " - 0s - loss: 25.8064 - val_loss: 96.4558\n",
      "Epoch 313/1000\n",
      " - 0s - loss: 45.7119 - val_loss: 97.4271\n",
      "Epoch 314/1000\n",
      " - 0s - loss: 25.5372 - val_loss: 98.5405\n",
      "Epoch 315/1000\n",
      " - 0s - loss: 15.4241 - val_loss: 99.3872\n",
      "Epoch 316/1000\n",
      " - 0s - loss: 20.0354 - val_loss: 99.9025\n",
      "Epoch 317/1000\n",
      " - 0s - loss: 14.7626 - val_loss: 100.4231\n",
      "Epoch 318/1000\n",
      " - 0s - loss: 21.0927 - val_loss: 100.7164\n",
      "Epoch 319/1000\n",
      " - 0s - loss: 36.7144 - val_loss: 100.8761\n",
      "Epoch 320/1000\n",
      " - 0s - loss: 29.5642 - val_loss: 100.8720\n",
      "Epoch 321/1000\n",
      " - 0s - loss: 19.9934 - val_loss: 101.0465\n",
      "Epoch 322/1000\n",
      " - 0s - loss: 27.6399 - val_loss: 101.5415\n",
      "Epoch 323/1000\n",
      " - 0s - loss: 27.5816 - val_loss: 102.0853\n",
      "Epoch 324/1000\n",
      " - 0s - loss: 24.8801 - val_loss: 101.7239\n",
      "Epoch 325/1000\n",
      " - 0s - loss: 17.9072 - val_loss: 101.2995\n",
      "Epoch 326/1000\n",
      " - 0s - loss: 63.6831 - val_loss: 100.6032\n",
      "Epoch 327/1000\n",
      " - 0s - loss: 14.3549 - val_loss: 100.3460\n",
      "Epoch 328/1000\n",
      " - 0s - loss: 21.5841 - val_loss: 100.1848\n",
      "Epoch 329/1000\n",
      " - 0s - loss: 21.2011 - val_loss: 99.5140\n",
      "Epoch 330/1000\n",
      " - 0s - loss: 25.0546 - val_loss: 98.8413\n",
      "Epoch 331/1000\n",
      " - 0s - loss: 39.7054 - val_loss: 98.0651\n",
      "Epoch 332/1000\n",
      " - 0s - loss: 26.2022 - val_loss: 97.2638\n",
      "Epoch 333/1000\n",
      " - 0s - loss: 31.0436 - val_loss: 96.8306\n",
      "Epoch 334/1000\n",
      " - 0s - loss: 28.6606 - val_loss: 96.2263\n",
      "Epoch 335/1000\n",
      " - 0s - loss: 35.7317 - val_loss: 95.5681\n",
      "Epoch 336/1000\n",
      " - 0s - loss: 15.6223 - val_loss: 95.0001\n",
      "Epoch 337/1000\n",
      " - 0s - loss: 26.3740 - val_loss: 94.8634\n",
      "Epoch 338/1000\n",
      " - 0s - loss: 15.6622 - val_loss: 94.8545\n",
      "Epoch 339/1000\n",
      " - 0s - loss: 21.5419 - val_loss: 94.8852\n",
      "Epoch 340/1000\n",
      " - 0s - loss: 45.1529 - val_loss: 95.1359\n",
      "Epoch 341/1000\n",
      " - 0s - loss: 37.8851 - val_loss: 95.3007\n",
      "Epoch 342/1000\n",
      " - 0s - loss: 14.4788 - val_loss: 95.5428\n",
      "Epoch 343/1000\n",
      " - 0s - loss: 31.0574 - val_loss: 95.7423\n",
      "Epoch 344/1000\n",
      " - 0s - loss: 18.3058 - val_loss: 95.5901\n",
      "Epoch 345/1000\n",
      " - 0s - loss: 35.3194 - val_loss: 95.8632\n",
      "Epoch 346/1000\n",
      " - 0s - loss: 66.9102 - val_loss: 96.5195\n",
      "Epoch 347/1000\n",
      " - 0s - loss: 29.4621 - val_loss: 97.5119\n",
      "Epoch 348/1000\n",
      " - 0s - loss: 35.5934 - val_loss: 98.6385\n",
      "Epoch 349/1000\n",
      " - 0s - loss: 27.8872 - val_loss: 99.7519\n",
      "Epoch 350/1000\n",
      " - 0s - loss: 23.1765 - val_loss: 101.3708\n",
      "Epoch 351/1000\n",
      " - 0s - loss: 30.0654 - val_loss: 102.0952\n",
      "Epoch 352/1000\n",
      " - 0s - loss: 14.3425 - val_loss: 102.5049\n",
      "Epoch 353/1000\n",
      " - 0s - loss: 24.9391 - val_loss: 102.6406\n",
      "Epoch 354/1000\n",
      " - 0s - loss: 33.9276 - val_loss: 102.4043\n",
      "Epoch 355/1000\n",
      " - 0s - loss: 26.4388 - val_loss: 101.9587\n",
      "Epoch 356/1000\n",
      " - 0s - loss: 37.9877 - val_loss: 100.7380\n",
      "Epoch 357/1000\n",
      " - 0s - loss: 27.6815 - val_loss: 99.8980\n",
      "Epoch 358/1000\n",
      " - 0s - loss: 16.9126 - val_loss: 98.8942\n",
      "Epoch 359/1000\n",
      " - 0s - loss: 23.1556 - val_loss: 98.1349\n",
      "Epoch 360/1000\n",
      " - 0s - loss: 27.6223 - val_loss: 97.7050\n",
      "Epoch 361/1000\n",
      " - 0s - loss: 16.0043 - val_loss: 96.9914\n",
      "Epoch 362/1000\n",
      " - 0s - loss: 48.9831 - val_loss: 96.9861\n",
      "Epoch 363/1000\n",
      " - 0s - loss: 18.4284 - val_loss: 97.0284\n",
      "Epoch 364/1000\n",
      " - 0s - loss: 27.0343 - val_loss: 96.9252\n",
      "Epoch 365/1000\n",
      " - 0s - loss: 22.1348 - val_loss: 97.0273\n",
      "Epoch 366/1000\n",
      " - 0s - loss: 28.2654 - val_loss: 96.7344\n",
      "Epoch 367/1000\n",
      " - 0s - loss: 26.5658 - val_loss: 96.5701\n",
      "Epoch 368/1000\n",
      " - 0s - loss: 20.5031 - val_loss: 96.2408\n",
      "Epoch 369/1000\n",
      " - 0s - loss: 26.9773 - val_loss: 96.0711\n",
      "Epoch 370/1000\n",
      " - 0s - loss: 26.7097 - val_loss: 95.6937\n",
      "Epoch 371/1000\n",
      " - 0s - loss: 12.6428 - val_loss: 95.2933\n",
      "Epoch 372/1000\n",
      " - 0s - loss: 21.1969 - val_loss: 94.9725\n",
      "Epoch 373/1000\n",
      " - 0s - loss: 25.2096 - val_loss: 94.2955\n",
      "Epoch 374/1000\n",
      " - 0s - loss: 24.8534 - val_loss: 93.7571\n",
      "Epoch 375/1000\n",
      " - 0s - loss: 22.1472 - val_loss: 93.1419\n",
      "Epoch 376/1000\n",
      " - 0s - loss: 25.7318 - val_loss: 92.2855\n",
      "Epoch 377/1000\n",
      " - 0s - loss: 21.7894 - val_loss: 91.5264\n",
      "Epoch 378/1000\n",
      " - 0s - loss: 32.5794 - val_loss: 90.8478\n",
      "Epoch 379/1000\n",
      " - 0s - loss: 39.2622 - val_loss: 90.4064\n",
      "Epoch 380/1000\n",
      " - 0s - loss: 54.5106 - val_loss: 90.4660\n",
      "Epoch 381/1000\n",
      " - 0s - loss: 30.6809 - val_loss: 90.6941\n",
      "Epoch 382/1000\n",
      " - 0s - loss: 24.9480 - val_loss: 90.9837\n",
      "Epoch 383/1000\n",
      " - 0s - loss: 18.0915 - val_loss: 91.5022\n",
      "Epoch 384/1000\n",
      " - 0s - loss: 36.5173 - val_loss: 92.0852\n",
      "Epoch 385/1000\n",
      " - 0s - loss: 38.2362 - val_loss: 93.2274\n",
      "Epoch 386/1000\n",
      " - 0s - loss: 27.7436 - val_loss: 94.6841\n",
      "Epoch 387/1000\n",
      " - 0s - loss: 17.1954 - val_loss: 95.7402\n",
      "Epoch 388/1000\n",
      " - 0s - loss: 26.2815 - val_loss: 96.6044\n",
      "Epoch 389/1000\n",
      " - 0s - loss: 35.1568 - val_loss: 97.4236\n",
      "Epoch 390/1000\n",
      " - 0s - loss: 23.6746 - val_loss: 98.1622\n",
      "Epoch 391/1000\n",
      " - 0s - loss: 31.6213 - val_loss: 98.8344\n",
      "Epoch 392/1000\n",
      " - 0s - loss: 25.3249 - val_loss: 99.7045\n",
      "Epoch 393/1000\n",
      " - 0s - loss: 50.8424 - val_loss: 100.5561\n",
      "Epoch 394/1000\n",
      " - 0s - loss: 19.1082 - val_loss: 101.2692\n",
      "Epoch 395/1000\n",
      " - 0s - loss: 26.6901 - val_loss: 101.6648\n",
      "Epoch 396/1000\n",
      " - 0s - loss: 34.8953 - val_loss: 101.9619\n",
      "Epoch 397/1000\n",
      " - 0s - loss: 27.9522 - val_loss: 101.8599\n",
      "Epoch 398/1000\n",
      " - 0s - loss: 33.2624 - val_loss: 102.2683\n",
      "Epoch 399/1000\n",
      " - 0s - loss: 36.3786 - val_loss: 102.2700\n",
      "Epoch 400/1000\n",
      " - 0s - loss: 28.8804 - val_loss: 101.7350\n",
      "Epoch 401/1000\n",
      " - 0s - loss: 19.7772 - val_loss: 100.4027\n",
      "Epoch 402/1000\n",
      " - 0s - loss: 44.7204 - val_loss: 99.9445\n",
      "Epoch 403/1000\n",
      " - 0s - loss: 33.4356 - val_loss: 100.0816\n",
      "Epoch 404/1000\n",
      " - 0s - loss: 28.7319 - val_loss: 99.9901\n",
      "Epoch 405/1000\n",
      " - 0s - loss: 19.5248 - val_loss: 99.6762\n",
      "Epoch 406/1000\n",
      " - 0s - loss: 19.8090 - val_loss: 99.4891\n",
      "Epoch 407/1000\n",
      " - 0s - loss: 29.6760 - val_loss: 98.7545\n",
      "Epoch 408/1000\n",
      " - 0s - loss: 17.2846 - val_loss: 98.1728\n",
      "Epoch 409/1000\n",
      " - 0s - loss: 16.2630 - val_loss: 97.6177\n",
      "Epoch 410/1000\n",
      " - 0s - loss: 22.5716 - val_loss: 97.2288\n"
     ]
    },
    {
     "name": "stdout",
     "output_type": "stream",
     "text": [
      "Epoch 411/1000\n",
      " - 0s - loss: 36.5286 - val_loss: 96.6620\n",
      "Epoch 412/1000\n",
      " - 0s - loss: 32.6264 - val_loss: 96.2789\n",
      "Epoch 413/1000\n",
      " - 0s - loss: 29.6940 - val_loss: 95.6558\n",
      "Epoch 414/1000\n",
      " - 0s - loss: 18.3262 - val_loss: 95.2265\n",
      "Epoch 415/1000\n",
      " - 0s - loss: 24.2943 - val_loss: 94.7058\n",
      "Epoch 416/1000\n",
      " - 0s - loss: 22.6552 - val_loss: 94.5539\n",
      "Epoch 417/1000\n",
      " - 0s - loss: 24.7451 - val_loss: 94.5057\n",
      "Epoch 418/1000\n",
      " - 0s - loss: 37.5148 - val_loss: 94.7039\n",
      "Epoch 419/1000\n",
      " - 0s - loss: 16.9738 - val_loss: 95.1138\n",
      "Epoch 420/1000\n",
      " - 0s - loss: 19.4551 - val_loss: 95.3361\n",
      "Epoch 421/1000\n",
      " - 0s - loss: 28.7660 - val_loss: 95.8722\n",
      "Epoch 422/1000\n",
      " - 0s - loss: 16.1021 - val_loss: 96.2987\n",
      "Epoch 423/1000\n",
      " - 0s - loss: 19.4520 - val_loss: 96.9079\n",
      "Epoch 424/1000\n",
      " - 0s - loss: 53.6095 - val_loss: 98.0097\n",
      "Epoch 425/1000\n",
      " - 0s - loss: 15.7629 - val_loss: 99.0180\n",
      "Epoch 426/1000\n",
      " - 0s - loss: 23.4107 - val_loss: 99.4436\n",
      "Epoch 427/1000\n",
      " - 0s - loss: 19.3531 - val_loss: 99.9959\n",
      "Epoch 428/1000\n",
      " - 0s - loss: 59.7644 - val_loss: 100.7685\n",
      "Epoch 429/1000\n",
      " - 0s - loss: 25.0049 - val_loss: 101.4699\n",
      "Epoch 430/1000\n",
      " - 0s - loss: 43.2430 - val_loss: 101.0925\n",
      "Epoch 431/1000\n",
      " - 0s - loss: 23.9939 - val_loss: 100.5501\n",
      "Epoch 432/1000\n",
      " - 0s - loss: 25.7745 - val_loss: 99.6962\n",
      "Epoch 433/1000\n",
      " - 0s - loss: 24.3266 - val_loss: 98.3791\n",
      "Epoch 434/1000\n",
      " - 0s - loss: 27.5706 - val_loss: 97.0912\n",
      "Epoch 435/1000\n",
      " - 0s - loss: 24.9616 - val_loss: 95.9536\n",
      "Epoch 436/1000\n",
      " - 0s - loss: 24.1483 - val_loss: 94.8508\n",
      "Epoch 437/1000\n",
      " - 0s - loss: 24.4856 - val_loss: 93.9389\n",
      "Epoch 438/1000\n",
      " - 0s - loss: 12.8409 - val_loss: 93.0289\n",
      "Epoch 439/1000\n",
      " - 0s - loss: 24.9719 - val_loss: 92.2444\n",
      "Epoch 440/1000\n",
      " - 0s - loss: 30.9376 - val_loss: 91.6970\n",
      "Epoch 441/1000\n",
      " - 0s - loss: 24.3982 - val_loss: 91.3662\n",
      "Epoch 442/1000\n",
      " - 0s - loss: 18.4718 - val_loss: 91.0165\n",
      "Epoch 443/1000\n",
      " - 0s - loss: 19.6505 - val_loss: 90.9076\n",
      "Epoch 444/1000\n",
      " - 0s - loss: 41.8853 - val_loss: 90.9840\n",
      "Epoch 445/1000\n",
      " - 0s - loss: 14.2731 - val_loss: 91.1219\n",
      "Epoch 446/1000\n",
      " - 0s - loss: 145.9493 - val_loss: 91.5261\n",
      "Epoch 447/1000\n",
      " - 0s - loss: 27.9875 - val_loss: 92.1923\n",
      "Epoch 448/1000\n",
      " - 0s - loss: 28.9263 - val_loss: 93.1824\n",
      "Epoch 449/1000\n",
      " - 0s - loss: 22.1438 - val_loss: 94.6109\n",
      "Epoch 450/1000\n",
      " - 0s - loss: 33.1888 - val_loss: 96.7104\n",
      "Epoch 451/1000\n",
      " - 0s - loss: 24.6979 - val_loss: 98.9681\n",
      "Epoch 452/1000\n",
      " - 0s - loss: 26.6906 - val_loss: 101.9172\n",
      "Epoch 453/1000\n",
      " - 0s - loss: 31.5474 - val_loss: 104.4087\n",
      "Epoch 454/1000\n",
      " - 0s - loss: 40.6794 - val_loss: 105.6895\n",
      "Epoch 455/1000\n",
      " - 0s - loss: 17.7356 - val_loss: 106.9037\n",
      "Epoch 456/1000\n",
      " - 0s - loss: 21.8891 - val_loss: 107.8568\n",
      "Epoch 457/1000\n",
      " - 0s - loss: 47.6984 - val_loss: 109.3621\n",
      "Epoch 458/1000\n",
      " - 0s - loss: 36.9815 - val_loss: 108.6192\n",
      "Epoch 459/1000\n",
      " - 0s - loss: 26.1869 - val_loss: 107.0205\n",
      "Epoch 460/1000\n",
      " - 0s - loss: 29.3150 - val_loss: 103.7198\n",
      "Epoch 461/1000\n",
      " - 0s - loss: 40.5580 - val_loss: 100.6079\n",
      "Epoch 462/1000\n",
      " - 0s - loss: 16.1166 - val_loss: 98.2907\n",
      "Epoch 463/1000\n",
      " - 0s - loss: 16.9314 - val_loss: 96.1495\n",
      "Epoch 464/1000\n",
      " - 0s - loss: 13.0362 - val_loss: 94.6169\n",
      "Epoch 465/1000\n",
      " - 0s - loss: 37.4148 - val_loss: 93.8278\n",
      "Epoch 466/1000\n",
      " - 0s - loss: 31.7431 - val_loss: 93.2173\n",
      "Epoch 467/1000\n",
      " - 0s - loss: 17.8747 - val_loss: 92.5511\n",
      "Epoch 468/1000\n",
      " - 0s - loss: 36.9374 - val_loss: 92.0883\n",
      "Epoch 469/1000\n",
      " - 0s - loss: 31.9621 - val_loss: 91.6081\n",
      "Epoch 470/1000\n",
      " - 0s - loss: 23.6286 - val_loss: 91.3596\n",
      "Epoch 471/1000\n",
      " - 0s - loss: 30.4974 - val_loss: 91.4556\n",
      "Epoch 472/1000\n",
      " - 0s - loss: 28.5716 - val_loss: 91.5967\n",
      "Epoch 473/1000\n",
      " - 0s - loss: 26.4255 - val_loss: 91.9905\n",
      "Epoch 474/1000\n",
      " - 0s - loss: 22.4741 - val_loss: 93.0362\n",
      "Epoch 475/1000\n",
      " - 0s - loss: 17.7175 - val_loss: 94.2266\n",
      "Epoch 476/1000\n",
      " - 0s - loss: 31.8283 - val_loss: 95.1925\n",
      "Epoch 477/1000\n",
      " - 0s - loss: 43.1379 - val_loss: 96.1936\n",
      "Epoch 478/1000\n",
      " - 0s - loss: 29.9237 - val_loss: 96.9448\n",
      "Epoch 479/1000\n",
      " - 0s - loss: 24.8143 - val_loss: 97.1247\n",
      "Epoch 480/1000\n",
      " - 0s - loss: 20.4766 - val_loss: 96.8391\n",
      "Epoch 481/1000\n",
      " - 0s - loss: 25.9355 - val_loss: 96.5637\n",
      "Epoch 482/1000\n",
      " - 0s - loss: 20.6221 - val_loss: 96.2044\n",
      "Epoch 483/1000\n",
      " - 0s - loss: 37.5615 - val_loss: 96.4252\n",
      "Epoch 484/1000\n",
      " - 0s - loss: 18.9759 - val_loss: 97.1050\n",
      "Epoch 485/1000\n",
      " - 0s - loss: 18.4206 - val_loss: 97.7634\n",
      "Epoch 486/1000\n",
      " - 0s - loss: 48.8388 - val_loss: 98.3397\n",
      "Epoch 487/1000\n",
      " - 0s - loss: 39.2327 - val_loss: 99.0999\n",
      "Epoch 488/1000\n",
      " - 0s - loss: 49.8903 - val_loss: 100.0161\n",
      "Epoch 489/1000\n",
      " - 0s - loss: 40.8328 - val_loss: 101.2169\n",
      "Epoch 490/1000\n",
      " - 0s - loss: 12.2492 - val_loss: 102.4299\n",
      "Epoch 491/1000\n",
      " - 0s - loss: 19.0541 - val_loss: 103.0735\n",
      "Epoch 492/1000\n",
      " - 0s - loss: 28.7872 - val_loss: 103.7522\n",
      "Epoch 493/1000\n",
      " - 0s - loss: 18.3429 - val_loss: 104.0297\n",
      "\n",
      "Epoch 00493: ReduceLROnPlateau reducing learning rate to 1.0000000474974514e-05.\n",
      "Epoch 494/1000\n",
      " - 0s - loss: 25.3233 - val_loss: 104.0033\n",
      "Epoch 495/1000\n",
      " - 0s - loss: 32.8714 - val_loss: 104.0343\n",
      "Epoch 496/1000\n",
      " - 0s - loss: 32.1419 - val_loss: 103.9681\n",
      "Epoch 497/1000\n",
      " - 0s - loss: 25.0547 - val_loss: 103.9977\n",
      "Epoch 498/1000\n",
      " - 0s - loss: 41.4178 - val_loss: 104.0315\n",
      "Epoch 499/1000\n",
      " - 0s - loss: 22.1539 - val_loss: 104.1104\n",
      "Epoch 500/1000\n",
      " - 0s - loss: 17.0206 - val_loss: 104.1306\n",
      "Epoch 501/1000\n",
      " - 0s - loss: 37.9040 - val_loss: 104.0940\n",
      "Epoch 502/1000\n",
      " - 0s - loss: 24.1448 - val_loss: 103.9781\n",
      "Epoch 503/1000\n",
      " - 0s - loss: 23.2080 - val_loss: 103.8060\n",
      "Epoch 504/1000\n",
      " - 0s - loss: 34.6006 - val_loss: 103.6343\n",
      "Epoch 505/1000\n",
      " - 0s - loss: 36.2978 - val_loss: 103.4417\n",
      "Epoch 506/1000\n",
      " - 0s - loss: 30.3974 - val_loss: 103.1999\n",
      "Epoch 507/1000\n",
      " - 0s - loss: 64.6945 - val_loss: 102.9543\n",
      "Epoch 508/1000\n",
      " - 0s - loss: 28.5335 - val_loss: 102.7591\n",
      "Epoch 509/1000\n",
      " - 0s - loss: 13.7298 - val_loss: 102.5245\n",
      "Epoch 510/1000\n",
      " - 0s - loss: 23.4383 - val_loss: 102.2581\n",
      "Epoch 511/1000\n",
      " - 0s - loss: 23.7476 - val_loss: 102.0464\n",
      "Epoch 512/1000\n",
      " - 0s - loss: 33.4462 - val_loss: 101.8864\n",
      "Epoch 513/1000\n",
      " - 0s - loss: 16.8741 - val_loss: 101.7411\n",
      "Epoch 514/1000\n",
      " - 0s - loss: 17.1335 - val_loss: 101.6452\n",
      "Epoch 515/1000\n",
      " - 0s - loss: 21.3163 - val_loss: 101.5241\n",
      "Epoch 516/1000\n",
      " - 0s - loss: 53.0691 - val_loss: 101.3510\n",
      "Epoch 517/1000\n",
      " - 0s - loss: 30.4141 - val_loss: 101.2415\n",
      "Epoch 518/1000\n",
      " - 0s - loss: 21.4059 - val_loss: 101.1060\n",
      "Epoch 519/1000\n",
      " - 0s - loss: 42.5831 - val_loss: 100.9926\n",
      "Epoch 520/1000\n",
      " - 0s - loss: 17.9949 - val_loss: 100.8936\n",
      "Epoch 521/1000\n",
      " - 0s - loss: 41.9426 - val_loss: 100.8448\n",
      "Epoch 522/1000\n",
      " - 0s - loss: 24.9739 - val_loss: 100.7691\n",
      "Epoch 523/1000\n",
      " - 0s - loss: 23.7580 - val_loss: 100.6620\n",
      "Epoch 524/1000\n",
      " - 0s - loss: 22.5771 - val_loss: 100.5499\n",
      "Epoch 525/1000\n",
      " - 0s - loss: 20.9169 - val_loss: 100.3993\n",
      "Epoch 526/1000\n",
      " - 0s - loss: 29.9890 - val_loss: 100.2604\n",
      "Epoch 527/1000\n",
      " - 0s - loss: 25.1750 - val_loss: 100.1212\n",
      "Epoch 528/1000\n",
      " - 0s - loss: 16.6191 - val_loss: 99.9574\n",
      "Epoch 529/1000\n",
      " - 0s - loss: 25.4709 - val_loss: 99.7548\n",
      "Epoch 530/1000\n",
      " - 0s - loss: 46.0775 - val_loss: 99.5592\n",
      "Epoch 531/1000\n",
      " - 0s - loss: 24.4017 - val_loss: 99.3664\n",
      "Epoch 532/1000\n",
      " - 0s - loss: 28.9208 - val_loss: 99.1866\n",
      "Epoch 533/1000\n",
      " - 0s - loss: 25.9133 - val_loss: 98.9895\n",
      "Epoch 534/1000\n",
      " - 0s - loss: 13.2653 - val_loss: 98.8050\n",
      "Epoch 535/1000\n",
      " - 0s - loss: 29.3268 - val_loss: 98.7111\n",
      "Epoch 536/1000\n",
      " - 0s - loss: 27.1283 - val_loss: 98.6440\n",
      "Epoch 537/1000\n",
      " - 0s - loss: 27.6414 - val_loss: 98.5954\n",
      "Epoch 538/1000\n",
      " - 0s - loss: 32.7619 - val_loss: 98.5035\n",
      "Epoch 539/1000\n",
      " - 0s - loss: 21.5056 - val_loss: 98.4809\n",
      "Epoch 540/1000\n",
      " - 0s - loss: 17.3646 - val_loss: 98.4552\n",
      "Epoch 541/1000\n",
      " - 0s - loss: 19.6690 - val_loss: 98.4465\n",
      "Epoch 542/1000\n",
      " - 0s - loss: 34.7341 - val_loss: 98.4853\n",
      "Epoch 543/1000\n",
      " - 0s - loss: 33.4352 - val_loss: 98.5485\n",
      "Epoch 544/1000\n",
      " - 0s - loss: 18.4447 - val_loss: 98.5921\n",
      "Epoch 545/1000\n",
      " - 0s - loss: 27.2811 - val_loss: 98.6473\n",
      "Epoch 546/1000\n",
      " - 0s - loss: 25.6100 - val_loss: 98.6596\n",
      "Epoch 547/1000\n",
      " - 0s - loss: 25.2404 - val_loss: 98.6568\n",
      "Epoch 548/1000\n",
      " - 0s - loss: 20.8975 - val_loss: 98.6507\n",
      "Epoch 549/1000\n",
      " - 0s - loss: 28.7997 - val_loss: 98.6369\n",
      "Epoch 550/1000\n",
      " - 0s - loss: 25.6550 - val_loss: 98.6279\n",
      "Epoch 551/1000\n",
      " - 0s - loss: 23.9708 - val_loss: 98.6123\n",
      "Epoch 552/1000\n",
      " - 0s - loss: 31.3122 - val_loss: 98.5943\n"
     ]
    },
    {
     "name": "stdout",
     "output_type": "stream",
     "text": [
      "Epoch 553/1000\n",
      " - 0s - loss: 17.2913 - val_loss: 98.5439\n",
      "Epoch 554/1000\n",
      " - 0s - loss: 32.1406 - val_loss: 98.5294\n",
      "Epoch 555/1000\n",
      " - 0s - loss: 25.0160 - val_loss: 98.4817\n",
      "Epoch 556/1000\n",
      " - 0s - loss: 21.8526 - val_loss: 98.4472\n",
      "Epoch 557/1000\n",
      " - 0s - loss: 18.7249 - val_loss: 98.4090\n",
      "Epoch 558/1000\n",
      " - 0s - loss: 37.5814 - val_loss: 98.4288\n",
      "Epoch 559/1000\n",
      " - 0s - loss: 29.2705 - val_loss: 98.4472\n",
      "Epoch 560/1000\n",
      " - 0s - loss: 32.4687 - val_loss: 98.5000\n",
      "Epoch 561/1000\n",
      " - 0s - loss: 19.2925 - val_loss: 98.4884\n",
      "Epoch 562/1000\n",
      " - 0s - loss: 25.7887 - val_loss: 98.4795\n",
      "Epoch 563/1000\n",
      " - 0s - loss: 18.1596 - val_loss: 98.4622\n",
      "Epoch 564/1000\n",
      " - 0s - loss: 21.8323 - val_loss: 98.4164\n",
      "Epoch 565/1000\n",
      " - 0s - loss: 45.9384 - val_loss: 98.3938\n",
      "Epoch 566/1000\n",
      " - 0s - loss: 49.7800 - val_loss: 98.3629\n",
      "Epoch 567/1000\n",
      " - 0s - loss: 40.3521 - val_loss: 98.4016\n",
      "Epoch 568/1000\n",
      " - 0s - loss: 40.3619 - val_loss: 98.4749\n",
      "Epoch 569/1000\n",
      " - 0s - loss: 24.4875 - val_loss: 98.5178\n",
      "Epoch 570/1000\n",
      " - 0s - loss: 11.0376 - val_loss: 98.5473\n",
      "Epoch 571/1000\n",
      " - 0s - loss: 39.9305 - val_loss: 98.6603\n",
      "Epoch 572/1000\n",
      " - 0s - loss: 30.9425 - val_loss: 98.7538\n",
      "Epoch 573/1000\n",
      " - 0s - loss: 31.5384 - val_loss: 98.8729\n",
      "Epoch 574/1000\n",
      " - 0s - loss: 21.2092 - val_loss: 98.9622\n",
      "Epoch 575/1000\n",
      " - 0s - loss: 16.4265 - val_loss: 99.0654\n",
      "Epoch 576/1000\n",
      " - 0s - loss: 17.6014 - val_loss: 99.1471\n",
      "Epoch 577/1000\n",
      " - 0s - loss: 24.2176 - val_loss: 99.2560\n",
      "Epoch 578/1000\n",
      " - 0s - loss: 34.3912 - val_loss: 99.3198\n",
      "Epoch 579/1000\n",
      " - 0s - loss: 24.5350 - val_loss: 99.4248\n",
      "Epoch 580/1000\n",
      " - 0s - loss: 27.2375 - val_loss: 99.5175\n",
      "Epoch 581/1000\n",
      " - 0s - loss: 27.7430 - val_loss: 99.5536\n",
      "Epoch 582/1000\n",
      " - 0s - loss: 32.9446 - val_loss: 99.5924\n",
      "Epoch 583/1000\n",
      " - 0s - loss: 23.4314 - val_loss: 99.6202\n",
      "Epoch 584/1000\n",
      " - 0s - loss: 29.6968 - val_loss: 99.6833\n",
      "Epoch 585/1000\n",
      " - 0s - loss: 27.4535 - val_loss: 99.7937\n",
      "Epoch 586/1000\n",
      " - 0s - loss: 25.6158 - val_loss: 99.8527\n",
      "Epoch 587/1000\n",
      " - 0s - loss: 29.7217 - val_loss: 99.9621\n",
      "Epoch 588/1000\n",
      " - 0s - loss: 39.6133 - val_loss: 100.1050\n",
      "Epoch 589/1000\n",
      " - 0s - loss: 47.3763 - val_loss: 100.3191\n",
      "Epoch 590/1000\n",
      " - 0s - loss: 29.4469 - val_loss: 100.4730\n",
      "Epoch 591/1000\n",
      " - 0s - loss: 28.8926 - val_loss: 100.5940\n",
      "Epoch 592/1000\n",
      " - 0s - loss: 31.6728 - val_loss: 100.7283\n",
      "Epoch 593/1000\n",
      " - 0s - loss: 31.5931 - val_loss: 100.7803\n"
     ]
    },
    {
     "data": {
      "text/plain": [
       "<keras.callbacks.History at 0x7f819433d358>"
      ]
     },
     "execution_count": 20,
     "metadata": {},
     "output_type": "execute_result"
    }
   ],
   "source": [
    "# create model and do training\n",
    "model = TS_model()\n",
    "model.fit(X_train, y_train, epochs = 1000, validation_data = (X_test, y_test), \n",
    "          batch_size = 38, verbose = 2, callbacks=[earlyStopping, mcp_save, reduce_lr_loss])  "
   ]
  },
  {
   "cell_type": "markdown",
   "metadata": {},
   "source": [
    "***<font size = 4>Predict</font>***"
   ]
  },
  {
   "cell_type": "markdown",
   "metadata": {},
   "source": [
    "Get the best model saved from the training process."
   ]
  },
  {
   "cell_type": "code",
   "execution_count": 31,
   "metadata": {},
   "outputs": [
    {
     "name": "stdout",
     "output_type": "stream",
     "text": [
      "WARNING:tensorflow:From /home/hadji-mufushi/venv/lib/python3.6/site-packages/tensorflow/python/framework/op_def_library.py:263: colocate_with (from tensorflow.python.framework.ops) is deprecated and will be removed in a future version.\n",
      "Instructions for updating:\n",
      "Colocations handled automatically by placer.\n",
      "WARNING:tensorflow:From /home/hadji-mufushi/venv/lib/python3.6/site-packages/keras/backend/tensorflow_backend.py:3445: calling dropout (from tensorflow.python.ops.nn_ops) with keep_prob is deprecated and will be removed in a future version.\n",
      "Instructions for updating:\n",
      "Please use `rate` instead of `keep_prob`. Rate should be set to `rate = 1 - keep_prob`.\n",
      "WARNING:tensorflow:From /home/hadji-mufushi/venv/lib/python3.6/site-packages/tensorflow/python/ops/math_ops.py:3066: to_int32 (from tensorflow.python.ops.math_ops) is deprecated and will be removed in a future version.\n",
      "Instructions for updating:\n",
      "Use tf.cast instead.\n"
     ]
    }
   ],
   "source": [
    "from keras.models import load_model\n",
    "best_model = load_model('lstm_time_series.hdf5')"
   ]
  },
  {
   "cell_type": "markdown",
   "metadata": {},
   "source": [
    "***<font size = 3>One time step prediction</font>***"
   ]
  },
  {
   "cell_type": "markdown",
   "metadata": {},
   "source": [
    "Make one time step predictions for 48th step to 59th step( March, 2018 - January, 2019)."
   ]
  },
  {
   "cell_type": "code",
   "execution_count": 32,
   "metadata": {},
   "outputs": [
    {
     "data": {
      "text/plain": [
       "array([[22747.799 ],\n",
       "       [12278.669 ],\n",
       "       [ 6995.3228],\n",
       "       [ 2639.571 ],\n",
       "       [ 3583.7568],\n",
       "       [ 3310.4917],\n",
       "       [ 5006.41  ],\n",
       "       [24087.781 ],\n",
       "       [29229.95  ],\n",
       "       [37715.227 ],\n",
       "       [43778.312 ]], dtype=float32)"
      ]
     },
     "execution_count": 32,
     "metadata": {},
     "output_type": "execute_result"
    }
   ],
   "source": [
    "# make predictions\n",
    "one_predictions3 = best_model.predict(X_test)\n",
    "# convert the negative predictions into 0 \n",
    "one_predictions3[one_predictions3 < 0] = 0\n",
    "one_predictions3_inverted = scaler.inverse_transform(one_predictions3.reshape(-1, 1))\n",
    "one_predictions3_inverted"
   ]
  },
  {
   "cell_type": "markdown",
   "metadata": {},
   "source": [
    "Plot the real data vs prediction values."
   ]
  },
  {
   "cell_type": "code",
   "execution_count": 49,
   "metadata": {},
   "outputs": [
    {
     "data": {
      "image/png": "[encoded data removed]",
      "text/plain": [
       "<Figure size 720x504 with 1 Axes>"
      ]
     },
     "metadata": {
      "needs_background": "light"
     },
     "output_type": "display_data"
    }
   ],
   "source": [
    "index_series3 = np.arange(48, 59, 1)\n",
    "plt.figure(figsize=(10,7))\n",
    "plt.plot(index_series3, Test_set, color = 'r', label = 'true value')\n",
    "plt.plot(index_series3, one_predictions3_inverted, color = 'g', label = 'predictions')\n",
    "plt.title('Comparison plot')\n",
    "plt.xlabel('Month')\n",
    "plt.ylabel('Number of complaint')\n",
    "plt.legend()\n",
    "plt.show()"
   ]
  },
  {
   "cell_type": "markdown",
   "metadata": {},
   "source": [
    "Check the LSTM model performance score for one time step predictions."
   ]
  },
  {
   "cell_type": "code",
   "execution_count": 62,
   "metadata": {},
   "outputs": [
    {
     "name": "stdout",
     "output_type": "stream",
     "text": [
      "One time step LSTM score:  3654.84959252442\n"
     ]
    }
   ],
   "source": [
    "one_score3 = sqrt(mean_squared_error(Test_set, predictions3_inverted))\n",
    "print('One time step LSTM score: ', one_score3 )"
   ]
  },
  {
   "cell_type": "markdown",
   "metadata": {},
   "source": [
    "***<font size = 3>Eleven time step prediction</font>***"
   ]
  },
  {
   "cell_type": "markdown",
   "metadata": {},
   "source": [
    "It is not an eye to eye comparison if we compare the performance of one time step prediction with the performance of previous model, since with the previous model, we do eleven time step prediction. Now lets predict for eleven time step prediction."
   ]
  },
  {
   "cell_type": "code",
   "execution_count": 51,
   "metadata": {},
   "outputs": [
    {
     "data": {
      "text/plain": [
       "array([[[  9.8667937 ],\n",
       "        [  1.955036  ],\n",
       "        [  0.75489675],\n",
       "        [  0.57899848],\n",
       "        [  0.74390311],\n",
       "        [ 14.81576488],\n",
       "        [ 64.71957052],\n",
       "        [ 84.44216428],\n",
       "        [100.        ],\n",
       "        [ 32.81418913]]])"
      ]
     },
     "execution_count": 51,
     "metadata": {},
     "output_type": "execute_result"
    }
   ],
   "source": [
    "# copy the first test sequence\n",
    "Seq = np.copy(X_test[0].reshape(1, X_test[0].shape[0], 1))\n",
    "Seq"
   ]
  },
  {
   "cell_type": "code",
   "execution_count": 52,
   "metadata": {},
   "outputs": [],
   "source": [
    "# Make eleven time step predictions using the last 10 sequence form Seq added with the last prediction value\n",
    "# i.e the results of eleven time step predictions is put in the last 11 entry in Seq\n",
    "for i in range(11):\n",
    "    prediction = best_model.predict(Seq[0:, i:])\n",
    "    Seq = np.insert(Seq, len(Seq[0]), [prediction], axis = 1)"
   ]
  },
  {
   "cell_type": "code",
   "execution_count": 53,
   "metadata": {},
   "outputs": [
    {
     "data": {
      "text/plain": [
       "array([[ 7548.        ],\n",
       "       [ 3230.        ],\n",
       "       [ 2575.        ],\n",
       "       [ 2479.        ],\n",
       "       [ 2569.        ],\n",
       "       [10249.        ],\n",
       "       [37485.        ],\n",
       "       [48249.        ],\n",
       "       [56740.        ],\n",
       "       [20072.        ],\n",
       "       [22747.79824589],\n",
       "       [11149.7506189 ],\n",
       "       [ 6195.1209202 ],\n",
       "       [ 3890.65037889],\n",
       "       [ 2778.23391231],\n",
       "       [ 1773.87949039],\n",
       "       [ 5622.33270901],\n",
       "       [22092.45744003],\n",
       "       [27453.65918144],\n",
       "       [34689.93347145],\n",
       "       [40918.2746022 ]])"
      ]
     },
     "execution_count": 53,
     "metadata": {},
     "output_type": "execute_result"
    }
   ],
   "source": [
    "Eleven_predictions3_inverted = scaler.inverse_transform(Seq.reshape(-1, 1))\n",
    "# convert the negative predictions into 0 \n",
    "Eleven_predictions3_inverted[Eleven_predictions3_inverted < 0]=0\n",
    "Eleven_predictions3_inverted"
   ]
  },
  {
   "cell_type": "markdown",
   "metadata": {},
   "source": [
    "Plot the real data vs prediction values."
   ]
  },
  {
   "cell_type": "code",
   "execution_count": 54,
   "metadata": {},
   "outputs": [
    {
     "data": {
      "image/png": "[encoded data removed]",
      "text/plain": [
       "<Figure size 720x504 with 1 Axes>"
      ]
     },
     "metadata": {
      "needs_background": "light"
     },
     "output_type": "display_data"
    }
   ],
   "source": [
    "plt.figure(figsize=(10,7))\n",
    "plt.plot(index_series3, Test_set, color = 'r', label = 'true value')\n",
    "plt.plot(index_series3, Eleven_predictions3_inverted[10:], color = 'g', label = 'predictions')\n",
    "plt.title('Comparison plot')\n",
    "plt.xlabel('Month')\n",
    "plt.ylabel('Number of complaint')\n",
    "plt.legend()\n",
    "plt.show()"
   ]
  },
  {
   "cell_type": "markdown",
   "metadata": {},
   "source": [
    "Check the LSTM model performance score for eleven time step predictions."
   ]
  },
  {
   "cell_type": "code",
   "execution_count": 55,
   "metadata": {},
   "outputs": [
    {
     "name": "stdout",
     "output_type": "stream",
     "text": [
      "Eleven time step LSTM score:  4043.1103976973277\n"
     ]
    }
   ],
   "source": [
    "eleven_score3 = sqrt(mean_squared_error(Test_set, Eleven_predictions3_inverted[10:]))\n",
    "print('Eleven time step LSTM score: ', eleven_score3 )"
   ]
  },
  {
   "cell_type": "markdown",
   "metadata": {},
   "source": [
    "***<font size = 5>Conclusion</font>***"
   ]
  },
  {
   "cell_type": "markdown",
   "metadata": {},
   "source": [
    "We have the performance score of models above as listed below:\n",
    "<ul>\n",
    "    <li>Persistence: 10452.478</li>\n",
    "    <li>FFT: 5845.825</li>\n",
    "    <li>SARIMA: 4866.660</li>\n",
    "    <li>LSTM</li>\n",
    "    <ul>\n",
    "         <li>One time step: 3654.850</li>\n",
    "         <li>Eleven time step: 4043.110</li>\n",
    "    </ul>\n",
    "</ul>\n",
    "\n",
    "Using Persistence model as a baseline, we have that FFT, SARIMA and LSTM model perform much better compared to persistence model with a big performance score margin and those three models can make predictions that track the pattern of the time series. Therefore, based on performance of models we see above, I am in the opinion that a model that could predict the number of future complaint of HEAT/HOT WATER can be built."
   ]
  },
  {
   "cell_type": "markdown",
   "metadata": {},
   "source": [
    "***<font size = 3>Author : Hadi Muhshi</font>*** "
   ]
  },
  {
   "cell_type": "code",
   "execution_count": null,
   "metadata": {},
   "outputs": [],
   "source": []
  }
 ],
 "metadata": {
  "kernelspec": {
   "display_name": "venv",
   "language": "python",
   "name": "venv"
  },
  "language_info": {
   "codemirror_mode": {
    "name": "ipython",
    "version": 3
   },
   "file_extension": ".py",
   "mimetype": "text/x-python",
   "name": "python",
   "nbconvert_exporter": "python",
   "pygments_lexer": "ipython3",
   "version": "3.6.7"
  }
 },
 "nbformat": 4,
 "nbformat_minor": 2
}
