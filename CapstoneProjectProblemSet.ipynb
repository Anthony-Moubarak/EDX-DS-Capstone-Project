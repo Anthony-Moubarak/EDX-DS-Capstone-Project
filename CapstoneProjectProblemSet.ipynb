{
 "cells": [
  {
   "cell_type": "markdown",
   "metadata": {},
   "source": [
    "<h1 align=center><font size = 5>Data Science and Machine Learning Capstone Project</font></h1>"
   ]
  },
  {
   "cell_type": "markdown",
   "metadata": {},
   "source": [
    "## Problem Description\n",
    "\n",
    "The people of New Yorker use the 311 system to report complaints about the non-emergency problems to local authorities. Various agencies in New York are assigned these problems. The Department of Housing Preservation and Development of New York City is the agency that processes 311 complaints that are related to housing and buildings.\n",
    "\n",
    "In the last few years, the number of 311 complaints coming to the Department of Housing Preservation and Development has increased significantly. Although these complaints are not necessarily urgent, the large volume of complaints and the sudden increase is impacting the overall efficiency of operations of the agency.\n",
    "\n",
    "Therefore, the Department of Housing Preservation and Development has approached your organization to help them manage the large volume of 311 complaints they are receiving every year.\n",
    "\n",
    "The agency needs answers to several questions. The answers to those questions must be supported by data and analytics. These are their  questions:\n",
    "<ol>\n",
    "    <li>Which type of complaint should the Department of Housing Preservation and Development of New York City focus on first?</li>\n",
    "    <li>Should the Department of Housing Preservation and Development of New York City focus on any particular set of boroughs, ZIP codes, or street (where the complaints are severe) for the specific type of complaints you identified in response to Question 1?</li>\n",
    "    <li>Does the Complaint Type that you identified in response to question 1 have an obvious relationship with any particular characteristic or characteristics of the houses or buildings?</li>\n",
    "    <li>Can a predictive model be built for a future prediction of the possibility of complaints of the type that you have identified in response to question 1?</li>\n",
    "</ol>\n",
    "\n",
    "Your organization has assigned you as the lead data scientist to provide the answers to these questions. You need to work on getting answers to them in this Capstone Project by following the standard approach of data science and machine learning."
   ]
  },
  {
   "cell_type": "markdown",
   "metadata": {},
   "source": [
    "### Datasets ###\n",
    "\n",
    "You will use two datasets from the Department of Housing Preservation and Development of New York City to address their problems.\n",
    "\n",
    "***<font size = 3>311 complaint dataset</font>***\n",
    "\n",
    "This dataset is available at https://data.cityofnewyork.us/Social-Services/311-Service-Requests-from-2010-to-Present/erm2-nwe9. You can download part of this data by using SODA API.\n",
    "\n",
    "Download only the data that is related to the Department of Housing Preservation and Development. Also, restrict your data to the limited number of fields. Otherwise, your data size will be unnecessarily large, and it might not work in the Watson Studio environment. Too much data can also be very slow to process and analyze.\n",
    "\n",
    "***<font size = 3>PLUTO dataset for housing</font>***\n",
    "\n",
    "This dataset for housing can be accessed from https://data.cityofnewyork.us/City-Government/Primary-Land-Use-Tax-Lot-Output-PLUTO-/xuk2-nczf. After you download the data, use only the part that is specific to the borough that you are interested in based on your analysis."
   ]
  },
  {
   "cell_type": "markdown",
   "metadata": {},
   "source": [
    "### Problem Set I: Identify the Top Complaint Type   ###\n",
    "\n",
    "**What Is the Top Complaint Type?**\n",
    "\n",
    "The goal of this exercise is to find the answer to the Question 1 of the problem statement:\n",
    "\n",
    "**Which type of complaint should the Department of Housing Preservation and Development of New York City focus on first?**\n",
    "\n",
    "In this exercise, you need to read back the 311 datasets that you stored in Cloud Object Store and explore the dataset.\n",
    "\n",
    "By the end of this exercise, you need to figure out the correct Complaint Type that the Department of Housing Preservation and Development of New York City should focus on."
   ]
  },
  {
   "cell_type": "markdown",
   "metadata": {},
   "source": [
    "***<font size = 3><a href=\"AnswerQ1.ipynb\" target = \"_blank\">Answer I</a></font>***"
   ]
  },
  {
   "cell_type": "markdown",
   "metadata": {},
   "source": [
    "### Problem Set II: Identify Areas Most Affected by the Top Complaint Type   ###\n",
    "\n",
    "**What Areas Should the Agency Focus On?**\n",
    "\n",
    "The goal of this exercise is to do explore the data to find the answer to the Question 2 problem statement:\n",
    "\n",
    "**Should the Department of Housing Preservation and Development of New York City focus on any particular set of boroughs, ZIP codes, or street (where the complaints are severe) for the specific type of complaints you identified in response to Question 1?**\n",
    "\n",
    "In this exercise, you will use 311 Dataset to determine whether to focus on any particular borough, ZIP code, or street (where the complaints are severe) for the specific Complaint Type you decided to focus at the end of the last exercise."
   ]
  },
  {
   "cell_type": "markdown",
   "metadata": {},
   "source": [
    "***<font size = 3><a href=\"AnswerQ2.ipynb\" target = \"_blank\">Answer II</a></font>***"
   ]
  },
  {
   "cell_type": "markdown",
   "metadata": {},
   "source": [
    "### Problem Set III: Identify Relationship between Building Characteristics and Top Complaint Type   ###\n",
    "\n",
    "**What Is the Relationship between Housing Characteristics and Complaints?**\n",
    "\n",
    "The goal of this exercise is to find the answer to the Question 3 of the problem statement: \n",
    "\n",
    "**Does the Complaint Type that you identified in response to Question 1 have an obvious relationship with any particular characteristic or characteristic of the Houses?**\n",
    "\n",
    "In this exercise, use the 311 dataset.\n",
    "\n",
    "You also need to read back the PLUTO dataset from Cloud Object Store that you saved previously in the course. Use the PLUTO dataset for the borough that you already identified to focus on the last exercise.Ensure that you use only a limited number of fields from the dataset so that you are not consuming too much memory during your analysis.\n",
    "\n",
    "The recommended fields are Address, BldgArea, BldgDepth, BuiltFAR, CommFAR, FacilFAR, Lot, LotArea, LotDepth, NumBldgs, NumFloors, OfficeArea, ResArea, ResidFAR, RetailArea, YearBuilt, YearAlter1, ZipCode, YCoord, and XCoord.\n",
    "\n",
    "At the end of this exercise, you should determine whether the type of complaint that you have identified as the response to Question 1 has an obvious relationship with any particular characteristic or characteristics of the houses."
   ]
  },
  {
   "cell_type": "markdown",
   "metadata": {},
   "source": [
    "***<font size = 3><a href=\"AnswerQ3.ipynb\" target = \"_blank\">Answer III</a></font>***"
   ]
  },
  {
   "cell_type": "markdown",
   "metadata": {},
   "source": [
    "###  5. Problem Set IV: Predict the Top Complaint Type ###\n",
    "\n",
    "**Predict Complaint Types**\n",
    "\n",
    "The goal of this exercise is to do Model Development and Validation to find the answer to the Question 4 of the problem statement:\n",
    "\n",
    "**Can a predictive model be built for future prediction of the possibility of complaints of the specific type that you identified in response to Question 1?**\n",
    "\n",
    "In this exercise, you will use a feature-engineered dataset to determine whether a predictive model can be built to predict the complaint (of the Complaint Type that you decided to focus on in Week 2) by using past data.\n",
    "\n",
    "Using the best model, you need to predict the number of future complaints (of the Complaint Type that you decided to focus on in Question 1)."
   ]
  },
  {
   "cell_type": "markdown",
   "metadata": {},
   "source": [
    "***<font size = 3><a href=\"AnswerQ4.ipynb\" target = \"_blank\">Answer IV</a></font>***"
   ]
  },
  {
   "cell_type": "code",
   "execution_count": null,
   "metadata": {},
   "outputs": [],
   "source": []
  }
 ],
 "metadata": {
  "kernelspec": {
   "display_name": "Python 3",
   "language": "python",
   "name": "python3"
  },
  "language_info": {
   "codemirror_mode": {
    "name": "ipython",
    "version": 3
   },
   "file_extension": ".py",
   "mimetype": "text/x-python",
   "name": "python",
   "nbconvert_exporter": "python",
   "pygments_lexer": "ipython3",
   "version": "3.6.7"
  }
 },
 "nbformat": 4,
 "nbformat_minor": 2
}
