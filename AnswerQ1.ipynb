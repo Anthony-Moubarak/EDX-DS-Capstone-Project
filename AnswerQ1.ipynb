{
 "cells": [
  {
   "cell_type": "markdown",
   "metadata": {},
   "source": [
    "<h1 align=center><font size = 5>Data Science and Machine Learning Capstone Project</font></h1>"
   ]
  },
  {
   "cell_type": "markdown",
   "metadata": {},
   "source": [
    "### Question 1. Which type of complaint should the Department of Housing Preservation and Development of New York City focus on first? ###"
   ]
  },
  {
   "cell_type": "markdown",
   "metadata": {},
   "source": [
    "***<font size = 3>Data preparation</font>***"
   ]
  },
  {
   "cell_type": "markdown",
   "metadata": {},
   "source": [
    "First, lets import the necessary libraries and data to answer this."
   ]
  },
  {
   "cell_type": "code",
   "execution_count": 1,
   "metadata": {},
   "outputs": [],
   "source": [
    "import pandas as pd\n",
    "import numpy as np\n",
    "%matplotlib inline\n",
    "import matplotlib as mpl\n",
    "import matplotlib.pyplot as plt"
   ]
  },
  {
   "cell_type": "markdown",
   "metadata": {},
   "source": [
    "Import 311 NYC dataset"
   ]
  },
  {
   "cell_type": "code",
   "execution_count": 2,
   "metadata": {},
   "outputs": [
    {
     "data": {
      "text/html": [
       "<div>\n",
       "<style scoped>\n",
       "    .dataframe tbody tr th:only-of-type {\n",
       "        vertical-align: middle;\n",
       "    }\n",
       "\n",
       "    .dataframe tbody tr th {\n",
       "        vertical-align: top;\n",
       "    }\n",
       "\n",
       "    .dataframe thead th {\n",
       "        text-align: right;\n",
       "    }\n",
       "</style>\n",
       "<table border=\"1\" class=\"dataframe\">\n",
       "  <thead>\n",
       "    <tr style=\"text-align: right;\">\n",
       "      <th></th>\n",
       "      <th>borough</th>\n",
       "      <th>city</th>\n",
       "      <th>complaint_type</th>\n",
       "      <th>created_date</th>\n",
       "      <th>incident_address</th>\n",
       "      <th>incident_zip</th>\n",
       "      <th>latitude</th>\n",
       "      <th>location_type</th>\n",
       "      <th>longitude</th>\n",
       "      <th>street_name</th>\n",
       "      <th>unique_key</th>\n",
       "    </tr>\n",
       "  </thead>\n",
       "  <tbody>\n",
       "    <tr>\n",
       "      <th>0</th>\n",
       "      <td>MANHATTAN</td>\n",
       "      <td>NEW YORK</td>\n",
       "      <td>APPLIANCE</td>\n",
       "      <td>2016-12-05 16:13:38</td>\n",
       "      <td>4530 BROADWAY</td>\n",
       "      <td>10040.0</td>\n",
       "      <td>40.858663</td>\n",
       "      <td>RESIDENTIAL BUILDING</td>\n",
       "      <td>-73.931621</td>\n",
       "      <td>BROADWAY</td>\n",
       "      <td>34931759</td>\n",
       "    </tr>\n",
       "    <tr>\n",
       "      <th>1</th>\n",
       "      <td>QUEENS</td>\n",
       "      <td>Richmond Hill</td>\n",
       "      <td>DOOR/WINDOW</td>\n",
       "      <td>2016-12-05 20:43:42</td>\n",
       "      <td>86-41 127 STREET</td>\n",
       "      <td>11418.0</td>\n",
       "      <td>40.702431</td>\n",
       "      <td>RESIDENTIAL BUILDING</td>\n",
       "      <td>-73.824103</td>\n",
       "      <td>127 STREET</td>\n",
       "      <td>34931760</td>\n",
       "    </tr>\n",
       "    <tr>\n",
       "      <th>2</th>\n",
       "      <td>BROOKLYN</td>\n",
       "      <td>BROOKLYN</td>\n",
       "      <td>DOOR/WINDOW</td>\n",
       "      <td>2016-12-05 14:59:24</td>\n",
       "      <td>788 NEW LOTS AVENUE</td>\n",
       "      <td>11208.0</td>\n",
       "      <td>40.666954</td>\n",
       "      <td>RESIDENTIAL BUILDING</td>\n",
       "      <td>-73.881327</td>\n",
       "      <td>NEW LOTS AVENUE</td>\n",
       "      <td>34931765</td>\n",
       "    </tr>\n",
       "    <tr>\n",
       "      <th>3</th>\n",
       "      <td>MANHATTAN</td>\n",
       "      <td>NEW YORK</td>\n",
       "      <td>DOOR/WINDOW</td>\n",
       "      <td>2016-12-05 16:40:33</td>\n",
       "      <td>153 MANHATTAN AVENUE</td>\n",
       "      <td>10025.0</td>\n",
       "      <td>40.799426</td>\n",
       "      <td>RESIDENTIAL BUILDING</td>\n",
       "      <td>-73.960927</td>\n",
       "      <td>MANHATTAN AVENUE</td>\n",
       "      <td>34931771</td>\n",
       "    </tr>\n",
       "    <tr>\n",
       "      <th>4</th>\n",
       "      <td>BROOKLYN</td>\n",
       "      <td>BROOKLYN</td>\n",
       "      <td>SAFETY</td>\n",
       "      <td>2016-12-05 07:57:43</td>\n",
       "      <td>613 EAST   16 STREET</td>\n",
       "      <td>11226.0</td>\n",
       "      <td>40.635246</td>\n",
       "      <td>RESIDENTIAL BUILDING</td>\n",
       "      <td>-73.962338</td>\n",
       "      <td>EAST   16 STREET</td>\n",
       "      <td>34931773</td>\n",
       "    </tr>\n",
       "  </tbody>\n",
       "</table>\n",
       "</div>"
      ],
      "text/plain": [
       "     borough           city complaint_type        created_date  \\\n",
       "0  MANHATTAN       NEW YORK      APPLIANCE 2016-12-05 16:13:38   \n",
       "1     QUEENS  Richmond Hill    DOOR/WINDOW 2016-12-05 20:43:42   \n",
       "2   BROOKLYN       BROOKLYN    DOOR/WINDOW 2016-12-05 14:59:24   \n",
       "3  MANHATTAN       NEW YORK    DOOR/WINDOW 2016-12-05 16:40:33   \n",
       "4   BROOKLYN       BROOKLYN         SAFETY 2016-12-05 07:57:43   \n",
       "\n",
       "       incident_address  incident_zip   latitude         location_type  \\\n",
       "0         4530 BROADWAY       10040.0  40.858663  RESIDENTIAL BUILDING   \n",
       "1      86-41 127 STREET       11418.0  40.702431  RESIDENTIAL BUILDING   \n",
       "2   788 NEW LOTS AVENUE       11208.0  40.666954  RESIDENTIAL BUILDING   \n",
       "3  153 MANHATTAN AVENUE       10025.0  40.799426  RESIDENTIAL BUILDING   \n",
       "4  613 EAST   16 STREET       11226.0  40.635246  RESIDENTIAL BUILDING   \n",
       "\n",
       "   longitude       street_name  unique_key  \n",
       "0 -73.931621          BROADWAY    34931759  \n",
       "1 -73.824103        127 STREET    34931760  \n",
       "2 -73.881327   NEW LOTS AVENUE    34931765  \n",
       "3 -73.960927  MANHATTAN AVENUE    34931771  \n",
       "4 -73.962338  EAST   16 STREET    34931773  "
      ]
     },
     "execution_count": 2,
     "metadata": {},
     "output_type": "execute_result"
    }
   ],
   "source": [
    "columns_used = ['borough', 'city', 'complaint_type', 'created_date', 'incident_address', 'incident_zip', 'latitude', 'location_type', 'longitude','street_name', 'unique_key'] \n",
    "df_311= pd.read_csv('fhrw-4uyv.csv', parse_dates = ['created_date'], usecols = columns_used)\n",
    "df_311.head()"
   ]
  },
  {
   "cell_type": "markdown",
   "metadata": {},
   "source": [
    "Preliminary checking for columns type in dataframe."
   ]
  },
  {
   "cell_type": "code",
   "execution_count": 3,
   "metadata": {},
   "outputs": [
    {
     "data": {
      "text/plain": [
       "borough                     object\n",
       "city                        object\n",
       "complaint_type              object\n",
       "created_date        datetime64[ns]\n",
       "incident_address            object\n",
       "incident_zip               float64\n",
       "latitude                   float64\n",
       "location_type               object\n",
       "longitude                  float64\n",
       "street_name                 object\n",
       "unique_key                   int64\n",
       "dtype: object"
      ]
     },
     "execution_count": 3,
     "metadata": {},
     "output_type": "execute_result"
    }
   ],
   "source": [
    "df_311.dtypes"
   ]
  },
  {
   "cell_type": "markdown",
   "metadata": {},
   "source": [
    "All type of features seems all right. Next, let's check the missing values"
   ]
  },
  {
   "cell_type": "code",
   "execution_count": 4,
   "metadata": {},
   "outputs": [
    {
     "data": {
      "text/html": [
       "<div>\n",
       "<style scoped>\n",
       "    .dataframe tbody tr th:only-of-type {\n",
       "        vertical-align: middle;\n",
       "    }\n",
       "\n",
       "    .dataframe tbody tr th {\n",
       "        vertical-align: top;\n",
       "    }\n",
       "\n",
       "    .dataframe thead th {\n",
       "        text-align: right;\n",
       "    }\n",
       "</style>\n",
       "<table border=\"1\" class=\"dataframe\">\n",
       "  <thead>\n",
       "    <tr style=\"text-align: right;\">\n",
       "      <th></th>\n",
       "      <th>borough</th>\n",
       "      <th>city</th>\n",
       "      <th>complaint_type</th>\n",
       "      <th>created_date</th>\n",
       "      <th>incident_address</th>\n",
       "      <th>incident_zip</th>\n",
       "      <th>latitude</th>\n",
       "      <th>location_type</th>\n",
       "      <th>longitude</th>\n",
       "      <th>street_name</th>\n",
       "      <th>unique_key</th>\n",
       "    </tr>\n",
       "  </thead>\n",
       "  <tbody>\n",
       "    <tr>\n",
       "      <th>0</th>\n",
       "      <td>False</td>\n",
       "      <td>False</td>\n",
       "      <td>False</td>\n",
       "      <td>False</td>\n",
       "      <td>False</td>\n",
       "      <td>False</td>\n",
       "      <td>False</td>\n",
       "      <td>False</td>\n",
       "      <td>False</td>\n",
       "      <td>False</td>\n",
       "      <td>False</td>\n",
       "    </tr>\n",
       "    <tr>\n",
       "      <th>1</th>\n",
       "      <td>False</td>\n",
       "      <td>False</td>\n",
       "      <td>False</td>\n",
       "      <td>False</td>\n",
       "      <td>False</td>\n",
       "      <td>False</td>\n",
       "      <td>False</td>\n",
       "      <td>False</td>\n",
       "      <td>False</td>\n",
       "      <td>False</td>\n",
       "      <td>False</td>\n",
       "    </tr>\n",
       "    <tr>\n",
       "      <th>2</th>\n",
       "      <td>False</td>\n",
       "      <td>False</td>\n",
       "      <td>False</td>\n",
       "      <td>False</td>\n",
       "      <td>False</td>\n",
       "      <td>False</td>\n",
       "      <td>False</td>\n",
       "      <td>False</td>\n",
       "      <td>False</td>\n",
       "      <td>False</td>\n",
       "      <td>False</td>\n",
       "    </tr>\n",
       "    <tr>\n",
       "      <th>3</th>\n",
       "      <td>False</td>\n",
       "      <td>False</td>\n",
       "      <td>False</td>\n",
       "      <td>False</td>\n",
       "      <td>False</td>\n",
       "      <td>False</td>\n",
       "      <td>False</td>\n",
       "      <td>False</td>\n",
       "      <td>False</td>\n",
       "      <td>False</td>\n",
       "      <td>False</td>\n",
       "    </tr>\n",
       "    <tr>\n",
       "      <th>4</th>\n",
       "      <td>False</td>\n",
       "      <td>False</td>\n",
       "      <td>False</td>\n",
       "      <td>False</td>\n",
       "      <td>False</td>\n",
       "      <td>False</td>\n",
       "      <td>False</td>\n",
       "      <td>False</td>\n",
       "      <td>False</td>\n",
       "      <td>False</td>\n",
       "      <td>False</td>\n",
       "    </tr>\n",
       "  </tbody>\n",
       "</table>\n",
       "</div>"
      ],
      "text/plain": [
       "   borough   city  complaint_type  created_date  incident_address  \\\n",
       "0    False  False           False         False             False   \n",
       "1    False  False           False         False             False   \n",
       "2    False  False           False         False             False   \n",
       "3    False  False           False         False             False   \n",
       "4    False  False           False         False             False   \n",
       "\n",
       "   incident_zip  latitude  location_type  longitude  street_name  unique_key  \n",
       "0         False     False          False      False        False       False  \n",
       "1         False     False          False      False        False       False  \n",
       "2         False     False          False      False        False       False  \n",
       "3         False     False          False      False        False       False  \n",
       "4         False     False          False      False        False       False  "
      ]
     },
     "execution_count": 4,
     "metadata": {},
     "output_type": "execute_result"
    }
   ],
   "source": [
    "missing_data_311= df_311.isnull()\n",
    "missing_data_311.head()"
   ]
  },
  {
   "cell_type": "code",
   "execution_count": 5,
   "metadata": {},
   "outputs": [
    {
     "name": "stdout",
     "output_type": "stream",
     "text": [
      "borough\n",
      "False    5619790\n",
      "Name: borough, dtype: int64\n",
      "\n",
      "city\n",
      "False    5535050\n",
      "True       84740\n",
      "Name: city, dtype: int64\n",
      "\n",
      "complaint_type\n",
      "False    5619790\n",
      "Name: complaint_type, dtype: int64\n",
      "\n",
      "created_date\n",
      "False    5619790\n",
      "Name: created_date, dtype: int64\n",
      "\n",
      "incident_address\n",
      "False    5566873\n",
      "True       52917\n",
      "Name: incident_address, dtype: int64\n",
      "\n",
      "incident_zip\n",
      "False    5534704\n",
      "True       85086\n",
      "Name: incident_zip, dtype: int64\n",
      "\n",
      "latitude\n",
      "False    5534730\n",
      "True       85060\n",
      "Name: latitude, dtype: int64\n",
      "\n",
      "location_type\n",
      "False    5566874\n",
      "True       52916\n",
      "Name: location_type, dtype: int64\n",
      "\n",
      "longitude\n",
      "False    5534730\n",
      "True       85060\n",
      "Name: longitude, dtype: int64\n",
      "\n",
      "street_name\n",
      "False    5566873\n",
      "True       52917\n",
      "Name: street_name, dtype: int64\n",
      "\n",
      "unique_key\n",
      "False    5619790\n",
      "Name: unique_key, dtype: int64\n",
      "\n"
     ]
    }
   ],
   "source": [
    "for column in missing_data_311.columns.values.tolist():\n",
    "    print(column)\n",
    "    #Menghitung jumlah masing-masing nilai unik pada kolom data\n",
    "    print (missing_data_311[column].value_counts())\n",
    "    print(\"\")"
   ]
  },
  {
   "cell_type": "markdown",
   "metadata": {},
   "source": [
    "There is no missing values for **complaint_type** feature, so let's keep all row in this dataframe as it is for now. Next, Let's check the number of each value of **complaint_type** column."
   ]
  },
  {
   "cell_type": "code",
   "execution_count": 6,
   "metadata": {},
   "outputs": [
    {
     "data": {
      "text/plain": [
       "HEAT/HOT WATER            1087060\n",
       "HEATING                    887869\n",
       "PLUMBING                   679799\n",
       "GENERAL CONSTRUCTION       500863\n",
       "UNSANITARY CONDITION       398383\n",
       "PAINT - PLASTER            361258\n",
       "PAINT/PLASTER              317276\n",
       "ELECTRIC                   292175\n",
       "NONCONST                   260890\n",
       "DOOR/WINDOW                183925\n",
       "WATER LEAK                 171793\n",
       "GENERAL                    134558\n",
       "FLOORING/STAIRS            125168\n",
       "APPLIANCE                  103282\n",
       "HPD Literature Request      52916\n",
       "SAFETY                      45188\n",
       "OUTSIDE BUILDING             6604\n",
       "ELEVATOR                     5672\n",
       "CONSTRUCTION                 5078\n",
       "STRUCTURAL                     16\n",
       "AGENCY                          9\n",
       "VACANT APARTMENT                8\n",
       "Name: complaint_type, dtype: int64"
      ]
     },
     "execution_count": 6,
     "metadata": {},
     "output_type": "execute_result"
    }
   ],
   "source": [
    "df_311['complaint_type'].value_counts()"
   ]
  },
  {
   "cell_type": "markdown",
   "metadata": {},
   "source": [
    "***<font size = 3>Visualizing and get some insight from data</font>***"
   ]
  },
  {
   "cell_type": "markdown",
   "metadata": {},
   "source": [
    "Create barh plot to visualize the proportion of the complaints."
   ]
  },
  {
   "cell_type": "code",
   "execution_count": 8,
   "metadata": {},
   "outputs": [
    {
     "data": {
      "image/png": "[encoded data removed]",
      "text/plain": [
       "<Figure size 864x864 with 1 Axes>"
      ]
     },
     "metadata": {
      "needs_background": "light"
     },
     "output_type": "display_data"
    }
   ],
   "source": [
    "# Set colors\n",
    "colors = ['C7', 'C7', 'C7', 'C7', 'C7', 'C7', 'C7', 'C7', 'C7', 'C7', 'C7', 'C7', 'C7', 'C7', 'C7', 'C7', 'C7', 'C7', 'C7', 'C7', 'C7', 'C3']\n",
    "#Set the series\n",
    "df_311_complaint_type = df_311['complaint_type'].value_counts()\n",
    "df_311_complaint_type.sort_values(ascending = True, inplace =True)\n",
    "Total_complaint = df_311_complaint_type.sum()\n",
    "\n",
    "# Create the barh plot\n",
    "df_311_complaint_type.plot(kind = 'barh', figsize = (12,12), color = colors)\n",
    "\n",
    "# Set text label to show the percentage of each complaint\n",
    "for index, value in enumerate(df_311_complaint_type):\n",
    "    label =  '{}%'.format(round((value/Total_complaint)*100, 2)) \n",
    "    plt.annotate(label, xy=(value + 10000, index-0.1), color='blue')\n",
    "    \n",
    "plt.show()"
   ]
  },
  {
   "cell_type": "markdown",
   "metadata": {},
   "source": [
    "The top 4 complaints takes more than 50% of total complaints which are HEAT/HOT WATER, HEATING, PLUMBING and GENERAL CONSTRUCTION. But for now, I am in the opinion that the Department of Housing Preservation and Development should focus on HEAT/HOT WATER complaint first."
   ]
  },
  {
   "cell_type": "markdown",
   "metadata": {},
   "source": [
    "Note: The data is recorded from from January, 2010 to February, 2019."
   ]
  },
  {
   "cell_type": "markdown",
   "metadata": {},
   "source": [
    "***<font size = 3>Author : Hadi Muhshi</font>*** "
   ]
  }
 ],
 "metadata": {
  "kernelspec": {
   "display_name": "Python 3",
   "language": "python",
   "name": "python3"
  },
  "language_info": {
   "codemirror_mode": {
    "name": "ipython",
    "version": 3
   },
   "file_extension": ".py",
   "mimetype": "text/x-python",
   "name": "python",
   "nbconvert_exporter": "python",
   "pygments_lexer": "ipython3",
   "version": "3.6.7"
  }
 },
 "nbformat": 4,
 "nbformat_minor": 2
}
